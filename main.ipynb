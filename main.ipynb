{
  "nbformat": 4,
  "nbformat_minor": 0,
  "metadata": {
    "colab": {
      "name": "main",
      "provenance": []
    },
    "kernelspec": {
      "name": "python3",
      "display_name": "Python 3"
    },
    "language_info": {
      "name": "python"
    }
  },
  "cells": [
    {
      "cell_type": "markdown",
      "source": [
        "#Importar librerías"
      ],
      "metadata": {
        "id": "gde_HNU3rv3r"
      }
    },
    {
      "cell_type": "code",
      "execution_count": 2160,
      "metadata": {
        "colab": {
          "base_uri": "https://localhost:8080/"
        },
        "id": "FYsDeRcSqP1j",
        "outputId": "317e4dd2-383e-46e7-ed3d-76dc3c53c612"
      },
      "outputs": [
        {
          "output_type": "stream",
          "name": "stdout",
          "text": [
            "Looking in indexes: https://pypi.org/simple, https://us-python.pkg.dev/colab-wheels/public/simple/\n",
            "Requirement already satisfied: mplfinance in /usr/local/lib/python3.7/dist-packages (0.12.9b1)\n",
            "Requirement already satisfied: matplotlib in /usr/local/lib/python3.7/dist-packages (from mplfinance) (3.2.2)\n",
            "Requirement already satisfied: pandas in /usr/local/lib/python3.7/dist-packages (from mplfinance) (1.3.5)\n",
            "Requirement already satisfied: cycler>=0.10 in /usr/local/lib/python3.7/dist-packages (from matplotlib->mplfinance) (0.11.0)\n",
            "Requirement already satisfied: pyparsing!=2.0.4,!=2.1.2,!=2.1.6,>=2.0.1 in /usr/local/lib/python3.7/dist-packages (from matplotlib->mplfinance) (3.0.9)\n",
            "Requirement already satisfied: python-dateutil>=2.1 in /usr/local/lib/python3.7/dist-packages (from matplotlib->mplfinance) (2.8.2)\n",
            "Requirement already satisfied: numpy>=1.11 in /usr/local/lib/python3.7/dist-packages (from matplotlib->mplfinance) (1.21.6)\n",
            "Requirement already satisfied: kiwisolver>=1.0.1 in /usr/local/lib/python3.7/dist-packages (from matplotlib->mplfinance) (1.4.2)\n",
            "Requirement already satisfied: typing-extensions in /usr/local/lib/python3.7/dist-packages (from kiwisolver>=1.0.1->matplotlib->mplfinance) (4.2.0)\n",
            "Requirement already satisfied: six>=1.5 in /usr/local/lib/python3.7/dist-packages (from python-dateutil>=2.1->matplotlib->mplfinance) (1.15.0)\n",
            "Requirement already satisfied: pytz>=2017.3 in /usr/local/lib/python3.7/dist-packages (from pandas->mplfinance) (2022.1)\n"
          ]
        }
      ],
      "source": [
        "!pip install mplfinance\n",
        "import mplfinance as mpl\n",
        "\n",
        "\n",
        "# Datos\n",
        "import numpy as np\n",
        "import pandas as pd\n",
        "from math import sqrt\n",
        "import scipy.stats as stats\n",
        "\n",
        "# Visualizacion\n",
        "import matplotlib.pyplot as plt\n",
        "import seaborn as sns\n",
        "import plotly.express as px\n",
        "from random import random\n",
        "from IPython.display import display\n",
        "pd.pandas.set_option('display.max_columns', None)\n",
        "%matplotlib inline\n",
        "\n",
        "# Preprocessing\n",
        "from sklearn.preprocessing import StandardScaler, PolynomialFeatures, RobustScaler\n",
        "from scipy import stats \n",
        "from imblearn.over_sampling import SMOTE\n",
        "from sklearn.impute import SimpleImputer\n",
        "\n",
        "# Modelos\n",
        "from sklearn.linear_model import LinearRegression, Ridge, Lasso, ElasticNet, SGDRegressor, LogisticRegression\n",
        "from sklearn.tree import DecisionTreeRegressor, DecisionTreeClassifier\n",
        "from sklearn.neighbors import KNeighborsRegressor, KNeighborsClassifier\n",
        "import xgboost as xgb\n",
        "from sklearn.ensemble import GradientBoostingClassifier, RandomForestClassifier\n",
        "from sklearn.naive_bayes import GaussianNB\n",
        "from sklearn import svm\n",
        "\n",
        "# Evaluacion\n",
        "from sklearn.metrics import mean_absolute_error, roc_auc_score, roc_curve, recall_score, classification_report, confusion_matrix\n",
        "from sklearn.model_selection import train_test_split, cross_val_score, GridSearchCV\n",
        "from sklearn import metrics\n",
        "from sklearn.pipeline import Pipeline\n",
        "\n",
        "from sklearn.tree import DecisionTreeClassifier\n",
        "from sklearn.ensemble import RandomForestClassifier\n",
        "from sklearn.ensemble import GradientBoostingClassifier\n",
        "from sklearn.metrics import accuracy_score, precision_score, recall_score, roc_auc_score, f1_score\n",
        "\n",
        "from fbprophet import Prophet\n",
        "\n",
        "import warnings\n",
        "warnings.filterwarnings(\"ignore\")\n",
        "\n",
        "warnings.filterwarnings(\"ignore\")"
      ]
    },
    {
      "cell_type": "markdown",
      "source": [
        "#Importamos archivos"
      ],
      "metadata": {
        "id": "lFJ2gVwIsrHr"
      }
    },
    {
      "cell_type": "code",
      "source": [
        "from google.colab import drive\n",
        "drive.mount('/content/drive')"
      ],
      "metadata": {
        "colab": {
          "base_uri": "https://localhost:8080/"
        },
        "id": "dZvffL7Br2X2",
        "outputId": "3a9e4d42-d64d-4005-a8f1-943de77fb8ce"
      },
      "execution_count": 2161,
      "outputs": [
        {
          "output_type": "stream",
          "name": "stdout",
          "text": [
            "Drive already mounted at /content/drive; to attempt to forcibly remount, call drive.mount(\"/content/drive\", force_remount=True).\n"
          ]
        }
      ]
    },
    {
      "cell_type": "code",
      "source": [
        "df_train = pd.read_csv('/content/drive/MyDrive/Hackaton-CBKTech/train.csv')\n",
        "df_test = pd.read_csv('/content/drive/MyDrive/Hackaton-CBKTech/test_x.csv')\n",
        "df_tweets = pd.read_csv('/content/drive/MyDrive/Hackaton-CBKTech/tweets_from2015_#Ibex35.csv')"
      ],
      "metadata": {
        "id": "7In5u6BNr2iJ"
      },
      "execution_count": 2162,
      "outputs": []
    },
    {
      "cell_type": "markdown",
      "source": [
        "#Analizamos datasets"
      ],
      "metadata": {
        "id": "VS3R2MZbtaMk"
      }
    },
    {
      "cell_type": "markdown",
      "source": [
        "###Train"
      ],
      "metadata": {
        "id": "FonJ1Fy4yWmE"
      }
    },
    {
      "cell_type": "code",
      "source": [
        "df_train.info() #hay fechas con valores nulos"
      ],
      "metadata": {
        "colab": {
          "base_uri": "https://localhost:8080/"
        },
        "id": "O7Y0ArkMtZwh",
        "outputId": "3a6b3464-8716-413f-d269-a709f4dd7173"
      },
      "execution_count": 2163,
      "outputs": [
        {
          "output_type": "stream",
          "name": "stdout",
          "text": [
            "<class 'pandas.core.frame.DataFrame'>\n",
            "RangeIndex: 6554 entries, 0 to 6553\n",
            "Data columns (total 8 columns):\n",
            " #   Column     Non-Null Count  Dtype  \n",
            "---  ------     --------------  -----  \n",
            " 0   Date       6554 non-null   object \n",
            " 1   Open       6421 non-null   float64\n",
            " 2   High       6421 non-null   float64\n",
            " 3   Low        6421 non-null   float64\n",
            " 4   Close      6421 non-null   float64\n",
            " 5   Adj Close  6421 non-null   float64\n",
            " 6   Volume     6421 non-null   float64\n",
            " 7   Target     6554 non-null   int64  \n",
            "dtypes: float64(6), int64(1), object(1)\n",
            "memory usage: 409.8+ KB\n"
          ]
        }
      ]
    },
    {
      "cell_type": "code",
      "source": [
        "df_train.describe()"
      ],
      "metadata": {
        "colab": {
          "base_uri": "https://localhost:8080/",
          "height": 300
        },
        "id": "jBb0xbBVr2l2",
        "outputId": "752ca681-6485-493a-96dc-3e63a3c7191a"
      },
      "execution_count": 2164,
      "outputs": [
        {
          "output_type": "execute_result",
          "data": {
            "text/plain": [
              "               Open          High           Low         Close     Adj Close  \\\n",
              "count   6421.000000   6421.000000   6421.000000   6421.000000   6421.000000   \n",
              "mean    8936.540448   9005.235576   8858.340567   8934.978558   8934.970624   \n",
              "std     2732.102441   2749.009324   2712.511028   2731.032625   2731.030170   \n",
              "min     2865.100098   2877.300049   2833.600098   2865.100098   2865.097168   \n",
              "25%     7732.399902   7817.200195   7641.500000   7727.799805   7727.791992   \n",
              "50%     9329.700195   9404.599609   9243.000000   9331.000000   9331.000000   \n",
              "75%    10525.500000  10590.299805  10441.200195  10523.400391  10523.400391   \n",
              "max    15999.200195  16040.400391  15868.599609  15945.700195  15945.683594   \n",
              "\n",
              "             Volume       Target  \n",
              "count  6.421000e+03  6554.000000  \n",
              "mean   8.218074e+07     0.516936  \n",
              "std    1.231845e+08     0.499751  \n",
              "min    0.000000e+00     0.000000  \n",
              "25%    0.000000e+00     0.000000  \n",
              "50%    1.966000e+05     1.000000  \n",
              "75%    1.773980e+08     1.000000  \n",
              "max    7.894902e+08     1.000000  "
            ],
            "text/html": [
              "\n",
              "  <div id=\"df-b3adaddd-cd16-42f9-8154-76b756192f10\">\n",
              "    <div class=\"colab-df-container\">\n",
              "      <div>\n",
              "<style scoped>\n",
              "    .dataframe tbody tr th:only-of-type {\n",
              "        vertical-align: middle;\n",
              "    }\n",
              "\n",
              "    .dataframe tbody tr th {\n",
              "        vertical-align: top;\n",
              "    }\n",
              "\n",
              "    .dataframe thead th {\n",
              "        text-align: right;\n",
              "    }\n",
              "</style>\n",
              "<table border=\"1\" class=\"dataframe\">\n",
              "  <thead>\n",
              "    <tr style=\"text-align: right;\">\n",
              "      <th></th>\n",
              "      <th>Open</th>\n",
              "      <th>High</th>\n",
              "      <th>Low</th>\n",
              "      <th>Close</th>\n",
              "      <th>Adj Close</th>\n",
              "      <th>Volume</th>\n",
              "      <th>Target</th>\n",
              "    </tr>\n",
              "  </thead>\n",
              "  <tbody>\n",
              "    <tr>\n",
              "      <th>count</th>\n",
              "      <td>6421.000000</td>\n",
              "      <td>6421.000000</td>\n",
              "      <td>6421.000000</td>\n",
              "      <td>6421.000000</td>\n",
              "      <td>6421.000000</td>\n",
              "      <td>6.421000e+03</td>\n",
              "      <td>6554.000000</td>\n",
              "    </tr>\n",
              "    <tr>\n",
              "      <th>mean</th>\n",
              "      <td>8936.540448</td>\n",
              "      <td>9005.235576</td>\n",
              "      <td>8858.340567</td>\n",
              "      <td>8934.978558</td>\n",
              "      <td>8934.970624</td>\n",
              "      <td>8.218074e+07</td>\n",
              "      <td>0.516936</td>\n",
              "    </tr>\n",
              "    <tr>\n",
              "      <th>std</th>\n",
              "      <td>2732.102441</td>\n",
              "      <td>2749.009324</td>\n",
              "      <td>2712.511028</td>\n",
              "      <td>2731.032625</td>\n",
              "      <td>2731.030170</td>\n",
              "      <td>1.231845e+08</td>\n",
              "      <td>0.499751</td>\n",
              "    </tr>\n",
              "    <tr>\n",
              "      <th>min</th>\n",
              "      <td>2865.100098</td>\n",
              "      <td>2877.300049</td>\n",
              "      <td>2833.600098</td>\n",
              "      <td>2865.100098</td>\n",
              "      <td>2865.097168</td>\n",
              "      <td>0.000000e+00</td>\n",
              "      <td>0.000000</td>\n",
              "    </tr>\n",
              "    <tr>\n",
              "      <th>25%</th>\n",
              "      <td>7732.399902</td>\n",
              "      <td>7817.200195</td>\n",
              "      <td>7641.500000</td>\n",
              "      <td>7727.799805</td>\n",
              "      <td>7727.791992</td>\n",
              "      <td>0.000000e+00</td>\n",
              "      <td>0.000000</td>\n",
              "    </tr>\n",
              "    <tr>\n",
              "      <th>50%</th>\n",
              "      <td>9329.700195</td>\n",
              "      <td>9404.599609</td>\n",
              "      <td>9243.000000</td>\n",
              "      <td>9331.000000</td>\n",
              "      <td>9331.000000</td>\n",
              "      <td>1.966000e+05</td>\n",
              "      <td>1.000000</td>\n",
              "    </tr>\n",
              "    <tr>\n",
              "      <th>75%</th>\n",
              "      <td>10525.500000</td>\n",
              "      <td>10590.299805</td>\n",
              "      <td>10441.200195</td>\n",
              "      <td>10523.400391</td>\n",
              "      <td>10523.400391</td>\n",
              "      <td>1.773980e+08</td>\n",
              "      <td>1.000000</td>\n",
              "    </tr>\n",
              "    <tr>\n",
              "      <th>max</th>\n",
              "      <td>15999.200195</td>\n",
              "      <td>16040.400391</td>\n",
              "      <td>15868.599609</td>\n",
              "      <td>15945.700195</td>\n",
              "      <td>15945.683594</td>\n",
              "      <td>7.894902e+08</td>\n",
              "      <td>1.000000</td>\n",
              "    </tr>\n",
              "  </tbody>\n",
              "</table>\n",
              "</div>\n",
              "      <button class=\"colab-df-convert\" onclick=\"convertToInteractive('df-b3adaddd-cd16-42f9-8154-76b756192f10')\"\n",
              "              title=\"Convert this dataframe to an interactive table.\"\n",
              "              style=\"display:none;\">\n",
              "        \n",
              "  <svg xmlns=\"http://www.w3.org/2000/svg\" height=\"24px\"viewBox=\"0 0 24 24\"\n",
              "       width=\"24px\">\n",
              "    <path d=\"M0 0h24v24H0V0z\" fill=\"none\"/>\n",
              "    <path d=\"M18.56 5.44l.94 2.06.94-2.06 2.06-.94-2.06-.94-.94-2.06-.94 2.06-2.06.94zm-11 1L8.5 8.5l.94-2.06 2.06-.94-2.06-.94L8.5 2.5l-.94 2.06-2.06.94zm10 10l.94 2.06.94-2.06 2.06-.94-2.06-.94-.94-2.06-.94 2.06-2.06.94z\"/><path d=\"M17.41 7.96l-1.37-1.37c-.4-.4-.92-.59-1.43-.59-.52 0-1.04.2-1.43.59L10.3 9.45l-7.72 7.72c-.78.78-.78 2.05 0 2.83L4 21.41c.39.39.9.59 1.41.59.51 0 1.02-.2 1.41-.59l7.78-7.78 2.81-2.81c.8-.78.8-2.07 0-2.86zM5.41 20L4 18.59l7.72-7.72 1.47 1.35L5.41 20z\"/>\n",
              "  </svg>\n",
              "      </button>\n",
              "      \n",
              "  <style>\n",
              "    .colab-df-container {\n",
              "      display:flex;\n",
              "      flex-wrap:wrap;\n",
              "      gap: 12px;\n",
              "    }\n",
              "\n",
              "    .colab-df-convert {\n",
              "      background-color: #E8F0FE;\n",
              "      border: none;\n",
              "      border-radius: 50%;\n",
              "      cursor: pointer;\n",
              "      display: none;\n",
              "      fill: #1967D2;\n",
              "      height: 32px;\n",
              "      padding: 0 0 0 0;\n",
              "      width: 32px;\n",
              "    }\n",
              "\n",
              "    .colab-df-convert:hover {\n",
              "      background-color: #E2EBFA;\n",
              "      box-shadow: 0px 1px 2px rgba(60, 64, 67, 0.3), 0px 1px 3px 1px rgba(60, 64, 67, 0.15);\n",
              "      fill: #174EA6;\n",
              "    }\n",
              "\n",
              "    [theme=dark] .colab-df-convert {\n",
              "      background-color: #3B4455;\n",
              "      fill: #D2E3FC;\n",
              "    }\n",
              "\n",
              "    [theme=dark] .colab-df-convert:hover {\n",
              "      background-color: #434B5C;\n",
              "      box-shadow: 0px 1px 3px 1px rgba(0, 0, 0, 0.15);\n",
              "      filter: drop-shadow(0px 1px 2px rgba(0, 0, 0, 0.3));\n",
              "      fill: #FFFFFF;\n",
              "    }\n",
              "  </style>\n",
              "\n",
              "      <script>\n",
              "        const buttonEl =\n",
              "          document.querySelector('#df-b3adaddd-cd16-42f9-8154-76b756192f10 button.colab-df-convert');\n",
              "        buttonEl.style.display =\n",
              "          google.colab.kernel.accessAllowed ? 'block' : 'none';\n",
              "\n",
              "        async function convertToInteractive(key) {\n",
              "          const element = document.querySelector('#df-b3adaddd-cd16-42f9-8154-76b756192f10');\n",
              "          const dataTable =\n",
              "            await google.colab.kernel.invokeFunction('convertToInteractive',\n",
              "                                                     [key], {});\n",
              "          if (!dataTable) return;\n",
              "\n",
              "          const docLinkHtml = 'Like what you see? Visit the ' +\n",
              "            '<a target=\"_blank\" href=https://colab.research.google.com/notebooks/data_table.ipynb>data table notebook</a>'\n",
              "            + ' to learn more about interactive tables.';\n",
              "          element.innerHTML = '';\n",
              "          dataTable['output_type'] = 'display_data';\n",
              "          await google.colab.output.renderOutput(dataTable, element);\n",
              "          const docLink = document.createElement('div');\n",
              "          docLink.innerHTML = docLinkHtml;\n",
              "          element.appendChild(docLink);\n",
              "        }\n",
              "      </script>\n",
              "    </div>\n",
              "  </div>\n",
              "  "
            ]
          },
          "metadata": {},
          "execution_count": 2164
        }
      ]
    },
    {
      "cell_type": "code",
      "source": [
        "df_train.head()"
      ],
      "metadata": {
        "colab": {
          "base_uri": "https://localhost:8080/",
          "height": 206
        },
        "id": "5ANPxvI8r2o_",
        "outputId": "02791d10-b23e-4d58-fad4-44384e5ba18b"
      },
      "execution_count": 2165,
      "outputs": [
        {
          "output_type": "execute_result",
          "data": {
            "text/plain": [
              "         Date         Open         High          Low        Close  \\\n",
              "0  1994-01-03  3615.199951  3654.699951  3581.000000  3654.500000   \n",
              "1  1994-01-04  3654.500000  3675.500000  3625.100098  3630.300049   \n",
              "2  1994-01-05  3625.199951  3625.199951  3583.399902  3621.199951   \n",
              "3  1994-01-06          NaN          NaN          NaN          NaN   \n",
              "4  1994-01-07  3621.199951  3644.399902  3598.699951  3636.399902   \n",
              "\n",
              "     Adj Close  Volume  Target  \n",
              "0  3654.496338     0.0       0  \n",
              "1  3630.296387     0.0       1  \n",
              "2  3621.196289     0.0       1  \n",
              "3          NaN     NaN       0  \n",
              "4  3636.396240     0.0       1  "
            ],
            "text/html": [
              "\n",
              "  <div id=\"df-08816109-7571-47ea-85a1-32112bc2eb71\">\n",
              "    <div class=\"colab-df-container\">\n",
              "      <div>\n",
              "<style scoped>\n",
              "    .dataframe tbody tr th:only-of-type {\n",
              "        vertical-align: middle;\n",
              "    }\n",
              "\n",
              "    .dataframe tbody tr th {\n",
              "        vertical-align: top;\n",
              "    }\n",
              "\n",
              "    .dataframe thead th {\n",
              "        text-align: right;\n",
              "    }\n",
              "</style>\n",
              "<table border=\"1\" class=\"dataframe\">\n",
              "  <thead>\n",
              "    <tr style=\"text-align: right;\">\n",
              "      <th></th>\n",
              "      <th>Date</th>\n",
              "      <th>Open</th>\n",
              "      <th>High</th>\n",
              "      <th>Low</th>\n",
              "      <th>Close</th>\n",
              "      <th>Adj Close</th>\n",
              "      <th>Volume</th>\n",
              "      <th>Target</th>\n",
              "    </tr>\n",
              "  </thead>\n",
              "  <tbody>\n",
              "    <tr>\n",
              "      <th>0</th>\n",
              "      <td>1994-01-03</td>\n",
              "      <td>3615.199951</td>\n",
              "      <td>3654.699951</td>\n",
              "      <td>3581.000000</td>\n",
              "      <td>3654.500000</td>\n",
              "      <td>3654.496338</td>\n",
              "      <td>0.0</td>\n",
              "      <td>0</td>\n",
              "    </tr>\n",
              "    <tr>\n",
              "      <th>1</th>\n",
              "      <td>1994-01-04</td>\n",
              "      <td>3654.500000</td>\n",
              "      <td>3675.500000</td>\n",
              "      <td>3625.100098</td>\n",
              "      <td>3630.300049</td>\n",
              "      <td>3630.296387</td>\n",
              "      <td>0.0</td>\n",
              "      <td>1</td>\n",
              "    </tr>\n",
              "    <tr>\n",
              "      <th>2</th>\n",
              "      <td>1994-01-05</td>\n",
              "      <td>3625.199951</td>\n",
              "      <td>3625.199951</td>\n",
              "      <td>3583.399902</td>\n",
              "      <td>3621.199951</td>\n",
              "      <td>3621.196289</td>\n",
              "      <td>0.0</td>\n",
              "      <td>1</td>\n",
              "    </tr>\n",
              "    <tr>\n",
              "      <th>3</th>\n",
              "      <td>1994-01-06</td>\n",
              "      <td>NaN</td>\n",
              "      <td>NaN</td>\n",
              "      <td>NaN</td>\n",
              "      <td>NaN</td>\n",
              "      <td>NaN</td>\n",
              "      <td>NaN</td>\n",
              "      <td>0</td>\n",
              "    </tr>\n",
              "    <tr>\n",
              "      <th>4</th>\n",
              "      <td>1994-01-07</td>\n",
              "      <td>3621.199951</td>\n",
              "      <td>3644.399902</td>\n",
              "      <td>3598.699951</td>\n",
              "      <td>3636.399902</td>\n",
              "      <td>3636.396240</td>\n",
              "      <td>0.0</td>\n",
              "      <td>1</td>\n",
              "    </tr>\n",
              "  </tbody>\n",
              "</table>\n",
              "</div>\n",
              "      <button class=\"colab-df-convert\" onclick=\"convertToInteractive('df-08816109-7571-47ea-85a1-32112bc2eb71')\"\n",
              "              title=\"Convert this dataframe to an interactive table.\"\n",
              "              style=\"display:none;\">\n",
              "        \n",
              "  <svg xmlns=\"http://www.w3.org/2000/svg\" height=\"24px\"viewBox=\"0 0 24 24\"\n",
              "       width=\"24px\">\n",
              "    <path d=\"M0 0h24v24H0V0z\" fill=\"none\"/>\n",
              "    <path d=\"M18.56 5.44l.94 2.06.94-2.06 2.06-.94-2.06-.94-.94-2.06-.94 2.06-2.06.94zm-11 1L8.5 8.5l.94-2.06 2.06-.94-2.06-.94L8.5 2.5l-.94 2.06-2.06.94zm10 10l.94 2.06.94-2.06 2.06-.94-2.06-.94-.94-2.06-.94 2.06-2.06.94z\"/><path d=\"M17.41 7.96l-1.37-1.37c-.4-.4-.92-.59-1.43-.59-.52 0-1.04.2-1.43.59L10.3 9.45l-7.72 7.72c-.78.78-.78 2.05 0 2.83L4 21.41c.39.39.9.59 1.41.59.51 0 1.02-.2 1.41-.59l7.78-7.78 2.81-2.81c.8-.78.8-2.07 0-2.86zM5.41 20L4 18.59l7.72-7.72 1.47 1.35L5.41 20z\"/>\n",
              "  </svg>\n",
              "      </button>\n",
              "      \n",
              "  <style>\n",
              "    .colab-df-container {\n",
              "      display:flex;\n",
              "      flex-wrap:wrap;\n",
              "      gap: 12px;\n",
              "    }\n",
              "\n",
              "    .colab-df-convert {\n",
              "      background-color: #E8F0FE;\n",
              "      border: none;\n",
              "      border-radius: 50%;\n",
              "      cursor: pointer;\n",
              "      display: none;\n",
              "      fill: #1967D2;\n",
              "      height: 32px;\n",
              "      padding: 0 0 0 0;\n",
              "      width: 32px;\n",
              "    }\n",
              "\n",
              "    .colab-df-convert:hover {\n",
              "      background-color: #E2EBFA;\n",
              "      box-shadow: 0px 1px 2px rgba(60, 64, 67, 0.3), 0px 1px 3px 1px rgba(60, 64, 67, 0.15);\n",
              "      fill: #174EA6;\n",
              "    }\n",
              "\n",
              "    [theme=dark] .colab-df-convert {\n",
              "      background-color: #3B4455;\n",
              "      fill: #D2E3FC;\n",
              "    }\n",
              "\n",
              "    [theme=dark] .colab-df-convert:hover {\n",
              "      background-color: #434B5C;\n",
              "      box-shadow: 0px 1px 3px 1px rgba(0, 0, 0, 0.15);\n",
              "      filter: drop-shadow(0px 1px 2px rgba(0, 0, 0, 0.3));\n",
              "      fill: #FFFFFF;\n",
              "    }\n",
              "  </style>\n",
              "\n",
              "      <script>\n",
              "        const buttonEl =\n",
              "          document.querySelector('#df-08816109-7571-47ea-85a1-32112bc2eb71 button.colab-df-convert');\n",
              "        buttonEl.style.display =\n",
              "          google.colab.kernel.accessAllowed ? 'block' : 'none';\n",
              "\n",
              "        async function convertToInteractive(key) {\n",
              "          const element = document.querySelector('#df-08816109-7571-47ea-85a1-32112bc2eb71');\n",
              "          const dataTable =\n",
              "            await google.colab.kernel.invokeFunction('convertToInteractive',\n",
              "                                                     [key], {});\n",
              "          if (!dataTable) return;\n",
              "\n",
              "          const docLinkHtml = 'Like what you see? Visit the ' +\n",
              "            '<a target=\"_blank\" href=https://colab.research.google.com/notebooks/data_table.ipynb>data table notebook</a>'\n",
              "            + ' to learn more about interactive tables.';\n",
              "          element.innerHTML = '';\n",
              "          dataTable['output_type'] = 'display_data';\n",
              "          await google.colab.output.renderOutput(dataTable, element);\n",
              "          const docLink = document.createElement('div');\n",
              "          docLink.innerHTML = docLinkHtml;\n",
              "          element.appendChild(docLink);\n",
              "        }\n",
              "      </script>\n",
              "    </div>\n",
              "  </div>\n",
              "  "
            ]
          },
          "metadata": {},
          "execution_count": 2165
        }
      ]
    },
    {
      "cell_type": "code",
      "source": [
        "df_train['Volume'].value_counts()"
      ],
      "metadata": {
        "colab": {
          "base_uri": "https://localhost:8080/"
        },
        "id": "Qk6ej4XdQanX",
        "outputId": "0b3d05de-7dc5-4b4f-eca7-e3c40c122bdf"
      },
      "execution_count": 2166,
      "outputs": [
        {
          "output_type": "execute_result",
          "data": {
            "text/plain": [
              "0.0            1649\n",
              "114400.0          9\n",
              "108000.0          9\n",
              "140000.0          9\n",
              "132000.0          8\n",
              "               ... \n",
              "230920000.0       1\n",
              "191595000.0       1\n",
              "178801000.0       1\n",
              "268613000.0       1\n",
              "101389200.0       1\n",
              "Name: Volume, Length: 3546, dtype: int64"
            ]
          },
          "metadata": {},
          "execution_count": 2166
        }
      ]
    },
    {
      "cell_type": "code",
      "source": [
        "df_train.isnull().sum()"
      ],
      "metadata": {
        "colab": {
          "base_uri": "https://localhost:8080/"
        },
        "id": "91aPyhcwr2rm",
        "outputId": "06017eea-e8dd-4372-c9d5-1dbc7be5689e"
      },
      "execution_count": 2167,
      "outputs": [
        {
          "output_type": "execute_result",
          "data": {
            "text/plain": [
              "Date           0\n",
              "Open         133\n",
              "High         133\n",
              "Low          133\n",
              "Close        133\n",
              "Adj Close    133\n",
              "Volume       133\n",
              "Target         0\n",
              "dtype: int64"
            ]
          },
          "metadata": {},
          "execution_count": 2167
        }
      ]
    },
    {
      "cell_type": "code",
      "source": [
        "#Sustituimos los valores nulos por los valores de próxima fila que no contenga nulo\n",
        "df_train.fillna(method = 'backfill', inplace =True)"
      ],
      "metadata": {
        "id": "mUBLSu8pr2zr"
      },
      "execution_count": 2168,
      "outputs": []
    },
    {
      "cell_type": "code",
      "source": [
        "df_train.shape"
      ],
      "metadata": {
        "colab": {
          "base_uri": "https://localhost:8080/"
        },
        "id": "qNJeg1hRuOvd",
        "outputId": "18e198f2-5dc6-4f72-9a97-0fade7cc7503"
      },
      "execution_count": 2169,
      "outputs": [
        {
          "output_type": "execute_result",
          "data": {
            "text/plain": [
              "(6554, 8)"
            ]
          },
          "metadata": {},
          "execution_count": 2169
        }
      ]
    },
    {
      "cell_type": "code",
      "source": [
        "df_train.isnull().sum()"
      ],
      "metadata": {
        "colab": {
          "base_uri": "https://localhost:8080/"
        },
        "id": "_ecwBHzXr22W",
        "outputId": "e313cb68-8f9f-4dfa-c267-9d2aea6efb4e"
      },
      "execution_count": 2170,
      "outputs": [
        {
          "output_type": "execute_result",
          "data": {
            "text/plain": [
              "Date         0\n",
              "Open         0\n",
              "High         0\n",
              "Low          0\n",
              "Close        0\n",
              "Adj Close    0\n",
              "Volume       0\n",
              "Target       0\n",
              "dtype: int64"
            ]
          },
          "metadata": {},
          "execution_count": 2170
        }
      ]
    },
    {
      "cell_type": "code",
      "source": [
        "#Las primeras filas tienen valores iguales a 0 en la columna 'Volume', las eliminamos"
      ],
      "metadata": {
        "id": "GS2LD-Zn5NHL"
      },
      "execution_count": 2171,
      "outputs": []
    },
    {
      "cell_type": "code",
      "source": [
        "no_volume = df_train['Volume'] == 0.0"
      ],
      "metadata": {
        "id": "yI6qYg4KslAl"
      },
      "execution_count": 2172,
      "outputs": []
    },
    {
      "cell_type": "code",
      "source": [
        "df_train.drop(df_train[df_train['Volume'] == 0.0].index, inplace = True)"
      ],
      "metadata": {
        "id": "9aGdkPxutVHA"
      },
      "execution_count": 2173,
      "outputs": []
    },
    {
      "cell_type": "code",
      "source": [
        "#Covertimos 'Date' a tipo fecha\n",
        "df_train['Date'] = pd.to_datetime(df_train['Date'], format= '%Y-%M-%d')"
      ],
      "metadata": {
        "id": "nrzblNbWzWLV"
      },
      "execution_count": 2174,
      "outputs": []
    },
    {
      "cell_type": "code",
      "source": [
        "df_train.info()\n",
        "df_train.set_index('Date', inplace = True)"
      ],
      "metadata": {
        "colab": {
          "base_uri": "https://localhost:8080/"
        },
        "id": "PNdjbFW_0EKh",
        "outputId": "ac54fb9b-e784-4543-894f-56719d0ce7e9"
      },
      "execution_count": 2175,
      "outputs": [
        {
          "output_type": "stream",
          "name": "stdout",
          "text": [
            "<class 'pandas.core.frame.DataFrame'>\n",
            "Int64Index: 4828 entries, 1710 to 6553\n",
            "Data columns (total 8 columns):\n",
            " #   Column     Non-Null Count  Dtype         \n",
            "---  ------     --------------  -----         \n",
            " 0   Date       4828 non-null   datetime64[ns]\n",
            " 1   Open       4828 non-null   float64       \n",
            " 2   High       4828 non-null   float64       \n",
            " 3   Low        4828 non-null   float64       \n",
            " 4   Close      4828 non-null   float64       \n",
            " 5   Adj Close  4828 non-null   float64       \n",
            " 6   Volume     4828 non-null   float64       \n",
            " 7   Target     4828 non-null   int64         \n",
            "dtypes: datetime64[ns](1), float64(6), int64(1)\n",
            "memory usage: 339.5 KB\n"
          ]
        }
      ]
    },
    {
      "cell_type": "markdown",
      "source": [
        "# Visualizamos"
      ],
      "metadata": {
        "id": "CGmW_hgb1FR9"
      }
    },
    {
      "cell_type": "code",
      "source": [
        "mpl.plot(df_train, type= 'candle', style = 'charles', title = 'Ibex 35 daily price', ylabel = 'Price', figratio=(30,8))"
      ],
      "metadata": {
        "colab": {
          "base_uri": "https://localhost:8080/",
          "height": 472
        },
        "id": "YX8MKkuY2z4-",
        "outputId": "a4e75bd4-aab8-4b1b-8630-5b02bc1abf52"
      },
      "execution_count": 2176,
      "outputs": [
        {
          "output_type": "display_data",
          "data": {
            "text/plain": [
              "<Figure size 2156.25x575 with 2 Axes>"
            ],
            "image/png": "[encoded data removed]"
          },
          "metadata": {}
        }
      ]
    },
    {
      "cell_type": "code",
      "source": [
        "corr = df_train.corr()['Close']"
      ],
      "metadata": {
        "id": "bTu582ahQpTL"
      },
      "execution_count": 2177,
      "outputs": []
    },
    {
      "cell_type": "code",
      "source": [
        "corr"
      ],
      "metadata": {
        "colab": {
          "base_uri": "https://localhost:8080/"
        },
        "id": "lZORLJf6Q0h7",
        "outputId": "fb01d016-91c0-44f6-f649-9c6bfd714983"
      },
      "execution_count": 2178,
      "outputs": [
        {
          "output_type": "execute_result",
          "data": {
            "text/plain": [
              "Open         0.998351\n",
              "High         0.999192\n",
              "Low          0.999278\n",
              "Close        1.000000\n",
              "Adj Close    1.000000\n",
              "Volume      -0.108231\n",
              "Target      -0.006895\n",
              "Name: Close, dtype: float64"
            ]
          },
          "metadata": {},
          "execution_count": 2178
        }
      ]
    },
    {
      "cell_type": "code",
      "source": [
        "corr1= df_train.corr()"
      ],
      "metadata": {
        "id": "uW6zpj1KLXZP"
      },
      "execution_count": 2179,
      "outputs": []
    },
    {
      "cell_type": "code",
      "source": [
        "corr1.style.background_gradient(cmap='coolwarm')"
      ],
      "metadata": {
        "colab": {
          "base_uri": "https://localhost:8080/",
          "height": 269
        },
        "id": "ZMPkbmiMLiy-",
        "outputId": "ce87370a-af1d-49a4-996a-16f43e133197"
      },
      "execution_count": 2180,
      "outputs": [
        {
          "output_type": "execute_result",
          "data": {
            "text/plain": [
              "<pandas.io.formats.style.Styler at 0x7f0dad21c210>"
            ],
            "text/html": [
              "<style type=\"text/css\">\n",
              "#T_aa0d2_row0_col0, #T_aa0d2_row0_col1, #T_aa0d2_row0_col2, #T_aa0d2_row0_col3, #T_aa0d2_row0_col4, #T_aa0d2_row1_col0, #T_aa0d2_row1_col1, #T_aa0d2_row1_col2, #T_aa0d2_row1_col3, #T_aa0d2_row1_col4, #T_aa0d2_row2_col0, #T_aa0d2_row2_col1, #T_aa0d2_row2_col2, #T_aa0d2_row2_col3, #T_aa0d2_row2_col4, #T_aa0d2_row3_col0, #T_aa0d2_row3_col1, #T_aa0d2_row3_col2, #T_aa0d2_row3_col3, #T_aa0d2_row3_col4, #T_aa0d2_row4_col0, #T_aa0d2_row4_col1, #T_aa0d2_row4_col2, #T_aa0d2_row4_col3, #T_aa0d2_row4_col4, #T_aa0d2_row5_col5, #T_aa0d2_row6_col6 {\n",
              "  background-color: #b40426;\n",
              "  color: #f1f1f1;\n",
              "}\n",
              "#T_aa0d2_row0_col5, #T_aa0d2_row0_col6, #T_aa0d2_row1_col5, #T_aa0d2_row1_col6, #T_aa0d2_row2_col5, #T_aa0d2_row2_col6, #T_aa0d2_row3_col5, #T_aa0d2_row3_col6, #T_aa0d2_row4_col5, #T_aa0d2_row4_col6, #T_aa0d2_row5_col0, #T_aa0d2_row5_col1, #T_aa0d2_row5_col2, #T_aa0d2_row5_col3, #T_aa0d2_row5_col4 {\n",
              "  background-color: #3b4cc0;\n",
              "  color: #f1f1f1;\n",
              "}\n",
              "#T_aa0d2_row5_col6 {\n",
              "  background-color: #4055c8;\n",
              "  color: #f1f1f1;\n",
              "}\n",
              "#T_aa0d2_row6_col0, #T_aa0d2_row6_col2, #T_aa0d2_row6_col3, #T_aa0d2_row6_col4 {\n",
              "  background-color: #5673e0;\n",
              "  color: #f1f1f1;\n",
              "}\n",
              "#T_aa0d2_row6_col1 {\n",
              "  background-color: #5572df;\n",
              "  color: #f1f1f1;\n",
              "}\n",
              "#T_aa0d2_row6_col5 {\n",
              "  background-color: #5d7ce6;\n",
              "  color: #f1f1f1;\n",
              "}\n",
              "</style>\n",
              "<table id=\"T_aa0d2_\" class=\"dataframe\">\n",
              "  <thead>\n",
              "    <tr>\n",
              "      <th class=\"blank level0\" >&nbsp;</th>\n",
              "      <th class=\"col_heading level0 col0\" >Open</th>\n",
              "      <th class=\"col_heading level0 col1\" >High</th>\n",
              "      <th class=\"col_heading level0 col2\" >Low</th>\n",
              "      <th class=\"col_heading level0 col3\" >Close</th>\n",
              "      <th class=\"col_heading level0 col4\" >Adj Close</th>\n",
              "      <th class=\"col_heading level0 col5\" >Volume</th>\n",
              "      <th class=\"col_heading level0 col6\" >Target</th>\n",
              "    </tr>\n",
              "  </thead>\n",
              "  <tbody>\n",
              "    <tr>\n",
              "      <th id=\"T_aa0d2_level0_row0\" class=\"row_heading level0 row0\" >Open</th>\n",
              "      <td id=\"T_aa0d2_row0_col0\" class=\"data row0 col0\" >1.000000</td>\n",
              "      <td id=\"T_aa0d2_row0_col1\" class=\"data row0 col1\" >0.999365</td>\n",
              "      <td id=\"T_aa0d2_row0_col2\" class=\"data row0 col2\" >0.999113</td>\n",
              "      <td id=\"T_aa0d2_row0_col3\" class=\"data row0 col3\" >0.998351</td>\n",
              "      <td id=\"T_aa0d2_row0_col4\" class=\"data row0 col4\" >0.998351</td>\n",
              "      <td id=\"T_aa0d2_row0_col5\" class=\"data row0 col5\" >-0.107028</td>\n",
              "      <td id=\"T_aa0d2_row0_col6\" class=\"data row0 col6\" >-0.007327</td>\n",
              "    </tr>\n",
              "    <tr>\n",
              "      <th id=\"T_aa0d2_level0_row1\" class=\"row_heading level0 row1\" >High</th>\n",
              "      <td id=\"T_aa0d2_row1_col0\" class=\"data row1 col0\" >0.999365</td>\n",
              "      <td id=\"T_aa0d2_row1_col1\" class=\"data row1 col1\" >1.000000</td>\n",
              "      <td id=\"T_aa0d2_row1_col2\" class=\"data row1 col2\" >0.998946</td>\n",
              "      <td id=\"T_aa0d2_row1_col3\" class=\"data row1 col3\" >0.999192</td>\n",
              "      <td id=\"T_aa0d2_row1_col4\" class=\"data row1 col4\" >0.999192</td>\n",
              "      <td id=\"T_aa0d2_row1_col5\" class=\"data row1 col5\" >-0.105654</td>\n",
              "      <td id=\"T_aa0d2_row1_col6\" class=\"data row1 col6\" >-0.007330</td>\n",
              "    </tr>\n",
              "    <tr>\n",
              "      <th id=\"T_aa0d2_level0_row2\" class=\"row_heading level0 row2\" >Low</th>\n",
              "      <td id=\"T_aa0d2_row2_col0\" class=\"data row2 col0\" >0.999113</td>\n",
              "      <td id=\"T_aa0d2_row2_col1\" class=\"data row2 col1\" >0.998946</td>\n",
              "      <td id=\"T_aa0d2_row2_col2\" class=\"data row2 col2\" >1.000000</td>\n",
              "      <td id=\"T_aa0d2_row2_col3\" class=\"data row2 col3\" >0.999278</td>\n",
              "      <td id=\"T_aa0d2_row2_col4\" class=\"data row2 col4\" >0.999278</td>\n",
              "      <td id=\"T_aa0d2_row2_col5\" class=\"data row2 col5\" >-0.109935</td>\n",
              "      <td id=\"T_aa0d2_row2_col6\" class=\"data row2 col6\" >-0.007023</td>\n",
              "    </tr>\n",
              "    <tr>\n",
              "      <th id=\"T_aa0d2_level0_row3\" class=\"row_heading level0 row3\" >Close</th>\n",
              "      <td id=\"T_aa0d2_row3_col0\" class=\"data row3 col0\" >0.998351</td>\n",
              "      <td id=\"T_aa0d2_row3_col1\" class=\"data row3 col1\" >0.999192</td>\n",
              "      <td id=\"T_aa0d2_row3_col2\" class=\"data row3 col2\" >0.999278</td>\n",
              "      <td id=\"T_aa0d2_row3_col3\" class=\"data row3 col3\" >1.000000</td>\n",
              "      <td id=\"T_aa0d2_row3_col4\" class=\"data row3 col4\" >1.000000</td>\n",
              "      <td id=\"T_aa0d2_row3_col5\" class=\"data row3 col5\" >-0.108231</td>\n",
              "      <td id=\"T_aa0d2_row3_col6\" class=\"data row3 col6\" >-0.006895</td>\n",
              "    </tr>\n",
              "    <tr>\n",
              "      <th id=\"T_aa0d2_level0_row4\" class=\"row_heading level0 row4\" >Adj Close</th>\n",
              "      <td id=\"T_aa0d2_row4_col0\" class=\"data row4 col0\" >0.998351</td>\n",
              "      <td id=\"T_aa0d2_row4_col1\" class=\"data row4 col1\" >0.999192</td>\n",
              "      <td id=\"T_aa0d2_row4_col2\" class=\"data row4 col2\" >0.999278</td>\n",
              "      <td id=\"T_aa0d2_row4_col3\" class=\"data row4 col3\" >1.000000</td>\n",
              "      <td id=\"T_aa0d2_row4_col4\" class=\"data row4 col4\" >1.000000</td>\n",
              "      <td id=\"T_aa0d2_row4_col5\" class=\"data row4 col5\" >-0.108231</td>\n",
              "      <td id=\"T_aa0d2_row4_col6\" class=\"data row4 col6\" >-0.006895</td>\n",
              "    </tr>\n",
              "    <tr>\n",
              "      <th id=\"T_aa0d2_level0_row5\" class=\"row_heading level0 row5\" >Volume</th>\n",
              "      <td id=\"T_aa0d2_row5_col0\" class=\"data row5 col0\" >-0.107028</td>\n",
              "      <td id=\"T_aa0d2_row5_col1\" class=\"data row5 col1\" >-0.105654</td>\n",
              "      <td id=\"T_aa0d2_row5_col2\" class=\"data row5 col2\" >-0.109935</td>\n",
              "      <td id=\"T_aa0d2_row5_col3\" class=\"data row5 col3\" >-0.108231</td>\n",
              "      <td id=\"T_aa0d2_row5_col4\" class=\"data row5 col4\" >-0.108231</td>\n",
              "      <td id=\"T_aa0d2_row5_col5\" class=\"data row5 col5\" >1.000000</td>\n",
              "      <td id=\"T_aa0d2_row5_col6\" class=\"data row5 col6\" >0.014497</td>\n",
              "    </tr>\n",
              "    <tr>\n",
              "      <th id=\"T_aa0d2_level0_row6\" class=\"row_heading level0 row6\" >Target</th>\n",
              "      <td id=\"T_aa0d2_row6_col0\" class=\"data row6 col0\" >-0.007327</td>\n",
              "      <td id=\"T_aa0d2_row6_col1\" class=\"data row6 col1\" >-0.007330</td>\n",
              "      <td id=\"T_aa0d2_row6_col2\" class=\"data row6 col2\" >-0.007023</td>\n",
              "      <td id=\"T_aa0d2_row6_col3\" class=\"data row6 col3\" >-0.006895</td>\n",
              "      <td id=\"T_aa0d2_row6_col4\" class=\"data row6 col4\" >-0.006895</td>\n",
              "      <td id=\"T_aa0d2_row6_col5\" class=\"data row6 col5\" >0.014497</td>\n",
              "      <td id=\"T_aa0d2_row6_col6\" class=\"data row6 col6\" >1.000000</td>\n",
              "    </tr>\n",
              "  </tbody>\n",
              "</table>\n"
            ]
          },
          "metadata": {},
          "execution_count": 2180
        }
      ]
    },
    {
      "cell_type": "code",
      "source": [
        "#Quitamos columna 'Close'\n",
        "df_train.drop('Close', axis = 1, inplace= True)"
      ],
      "metadata": {
        "id": "JAIUQKGoY3BW"
      },
      "execution_count": 2181,
      "outputs": []
    },
    {
      "cell_type": "code",
      "source": [
        "#Añadimos dos nuevas columnas\n",
        "df_train['Dif_Open_Close'] = (df_train['Adj Close'] - df_train['Open'])"
      ],
      "metadata": {
        "id": "vo2tKnTIUTI-"
      },
      "execution_count": 2182,
      "outputs": []
    },
    {
      "cell_type": "code",
      "source": [
        "df_train['MA3'] = df_train['Adj Close'].rolling (3).mean()"
      ],
      "metadata": {
        "id": "8JTDqC16end3"
      },
      "execution_count": 2183,
      "outputs": []
    },
    {
      "cell_type": "code",
      "source": [
        "df_train.fillna(method = 'backfill', inplace =True)"
      ],
      "metadata": {
        "id": "3CjGqEIGWzeK"
      },
      "execution_count": 2184,
      "outputs": []
    },
    {
      "cell_type": "code",
      "source": [
        "df_train.head()"
      ],
      "metadata": {
        "colab": {
          "base_uri": "https://localhost:8080/",
          "height": 237
        },
        "id": "O55IaMjbVOAN",
        "outputId": "812b1d6f-a962-4d6c-c638-774090229638"
      },
      "execution_count": 2185,
      "outputs": [
        {
          "output_type": "execute_result",
          "data": {
            "text/plain": [
              "                             Open          High           Low     Adj Close  \\\n",
              "Date                                                                          \n",
              "2000-01-24 00:07:00  10879.599609  10924.400391  10812.500000  10831.489258   \n",
              "2000-01-25 00:07:00  10831.500000  10842.200195  10703.400391  10714.588867   \n",
              "2000-01-26 00:07:00  10722.599609  10840.200195  10722.599609  10743.789063   \n",
              "2000-01-27 00:07:00  10743.799805  10856.599609  10713.400391  10725.989258   \n",
              "2000-01-28 00:07:00  10726.000000  10735.000000  10526.799805  10559.989258   \n",
              "\n",
              "                        Volume  Target  Dif_Open_Close           MA3  \n",
              "Date                                                                  \n",
              "2000-01-24 00:07:00  5545600.0       0      -48.110351  10763.289063  \n",
              "2000-01-25 00:07:00  7368000.0       0     -116.911133  10763.289063  \n",
              "2000-01-26 00:07:00  6643800.0       0       21.189454  10763.289063  \n",
              "2000-01-27 00:07:00  6989400.0       0      -17.810547  10728.122396  \n",
              "2000-01-28 00:07:00  6670000.0       1     -166.010742  10676.589193  "
            ],
            "text/html": [
              "\n",
              "  <div id=\"df-2dbc08a3-9438-4b4f-9e83-dcdac8d8cefd\">\n",
              "    <div class=\"colab-df-container\">\n",
              "      <div>\n",
              "<style scoped>\n",
              "    .dataframe tbody tr th:only-of-type {\n",
              "        vertical-align: middle;\n",
              "    }\n",
              "\n",
              "    .dataframe tbody tr th {\n",
              "        vertical-align: top;\n",
              "    }\n",
              "\n",
              "    .dataframe thead th {\n",
              "        text-align: right;\n",
              "    }\n",
              "</style>\n",
              "<table border=\"1\" class=\"dataframe\">\n",
              "  <thead>\n",
              "    <tr style=\"text-align: right;\">\n",
              "      <th></th>\n",
              "      <th>Open</th>\n",
              "      <th>High</th>\n",
              "      <th>Low</th>\n",
              "      <th>Adj Close</th>\n",
              "      <th>Volume</th>\n",
              "      <th>Target</th>\n",
              "      <th>Dif_Open_Close</th>\n",
              "      <th>MA3</th>\n",
              "    </tr>\n",
              "    <tr>\n",
              "      <th>Date</th>\n",
              "      <th></th>\n",
              "      <th></th>\n",
              "      <th></th>\n",
              "      <th></th>\n",
              "      <th></th>\n",
              "      <th></th>\n",
              "      <th></th>\n",
              "      <th></th>\n",
              "    </tr>\n",
              "  </thead>\n",
              "  <tbody>\n",
              "    <tr>\n",
              "      <th>2000-01-24 00:07:00</th>\n",
              "      <td>10879.599609</td>\n",
              "      <td>10924.400391</td>\n",
              "      <td>10812.500000</td>\n",
              "      <td>10831.489258</td>\n",
              "      <td>5545600.0</td>\n",
              "      <td>0</td>\n",
              "      <td>-48.110351</td>\n",
              "      <td>10763.289063</td>\n",
              "    </tr>\n",
              "    <tr>\n",
              "      <th>2000-01-25 00:07:00</th>\n",
              "      <td>10831.500000</td>\n",
              "      <td>10842.200195</td>\n",
              "      <td>10703.400391</td>\n",
              "      <td>10714.588867</td>\n",
              "      <td>7368000.0</td>\n",
              "      <td>0</td>\n",
              "      <td>-116.911133</td>\n",
              "      <td>10763.289063</td>\n",
              "    </tr>\n",
              "    <tr>\n",
              "      <th>2000-01-26 00:07:00</th>\n",
              "      <td>10722.599609</td>\n",
              "      <td>10840.200195</td>\n",
              "      <td>10722.599609</td>\n",
              "      <td>10743.789063</td>\n",
              "      <td>6643800.0</td>\n",
              "      <td>0</td>\n",
              "      <td>21.189454</td>\n",
              "      <td>10763.289063</td>\n",
              "    </tr>\n",
              "    <tr>\n",
              "      <th>2000-01-27 00:07:00</th>\n",
              "      <td>10743.799805</td>\n",
              "      <td>10856.599609</td>\n",
              "      <td>10713.400391</td>\n",
              "      <td>10725.989258</td>\n",
              "      <td>6989400.0</td>\n",
              "      <td>0</td>\n",
              "      <td>-17.810547</td>\n",
              "      <td>10728.122396</td>\n",
              "    </tr>\n",
              "    <tr>\n",
              "      <th>2000-01-28 00:07:00</th>\n",
              "      <td>10726.000000</td>\n",
              "      <td>10735.000000</td>\n",
              "      <td>10526.799805</td>\n",
              "      <td>10559.989258</td>\n",
              "      <td>6670000.0</td>\n",
              "      <td>1</td>\n",
              "      <td>-166.010742</td>\n",
              "      <td>10676.589193</td>\n",
              "    </tr>\n",
              "  </tbody>\n",
              "</table>\n",
              "</div>\n",
              "      <button class=\"colab-df-convert\" onclick=\"convertToInteractive('df-2dbc08a3-9438-4b4f-9e83-dcdac8d8cefd')\"\n",
              "              title=\"Convert this dataframe to an interactive table.\"\n",
              "              style=\"display:none;\">\n",
              "        \n",
              "  <svg xmlns=\"http://www.w3.org/2000/svg\" height=\"24px\"viewBox=\"0 0 24 24\"\n",
              "       width=\"24px\">\n",
              "    <path d=\"M0 0h24v24H0V0z\" fill=\"none\"/>\n",
              "    <path d=\"M18.56 5.44l.94 2.06.94-2.06 2.06-.94-2.06-.94-.94-2.06-.94 2.06-2.06.94zm-11 1L8.5 8.5l.94-2.06 2.06-.94-2.06-.94L8.5 2.5l-.94 2.06-2.06.94zm10 10l.94 2.06.94-2.06 2.06-.94-2.06-.94-.94-2.06-.94 2.06-2.06.94z\"/><path d=\"M17.41 7.96l-1.37-1.37c-.4-.4-.92-.59-1.43-.59-.52 0-1.04.2-1.43.59L10.3 9.45l-7.72 7.72c-.78.78-.78 2.05 0 2.83L4 21.41c.39.39.9.59 1.41.59.51 0 1.02-.2 1.41-.59l7.78-7.78 2.81-2.81c.8-.78.8-2.07 0-2.86zM5.41 20L4 18.59l7.72-7.72 1.47 1.35L5.41 20z\"/>\n",
              "  </svg>\n",
              "      </button>\n",
              "      \n",
              "  <style>\n",
              "    .colab-df-container {\n",
              "      display:flex;\n",
              "      flex-wrap:wrap;\n",
              "      gap: 12px;\n",
              "    }\n",
              "\n",
              "    .colab-df-convert {\n",
              "      background-color: #E8F0FE;\n",
              "      border: none;\n",
              "      border-radius: 50%;\n",
              "      cursor: pointer;\n",
              "      display: none;\n",
              "      fill: #1967D2;\n",
              "      height: 32px;\n",
              "      padding: 0 0 0 0;\n",
              "      width: 32px;\n",
              "    }\n",
              "\n",
              "    .colab-df-convert:hover {\n",
              "      background-color: #E2EBFA;\n",
              "      box-shadow: 0px 1px 2px rgba(60, 64, 67, 0.3), 0px 1px 3px 1px rgba(60, 64, 67, 0.15);\n",
              "      fill: #174EA6;\n",
              "    }\n",
              "\n",
              "    [theme=dark] .colab-df-convert {\n",
              "      background-color: #3B4455;\n",
              "      fill: #D2E3FC;\n",
              "    }\n",
              "\n",
              "    [theme=dark] .colab-df-convert:hover {\n",
              "      background-color: #434B5C;\n",
              "      box-shadow: 0px 1px 3px 1px rgba(0, 0, 0, 0.15);\n",
              "      filter: drop-shadow(0px 1px 2px rgba(0, 0, 0, 0.3));\n",
              "      fill: #FFFFFF;\n",
              "    }\n",
              "  </style>\n",
              "\n",
              "      <script>\n",
              "        const buttonEl =\n",
              "          document.querySelector('#df-2dbc08a3-9438-4b4f-9e83-dcdac8d8cefd button.colab-df-convert');\n",
              "        buttonEl.style.display =\n",
              "          google.colab.kernel.accessAllowed ? 'block' : 'none';\n",
              "\n",
              "        async function convertToInteractive(key) {\n",
              "          const element = document.querySelector('#df-2dbc08a3-9438-4b4f-9e83-dcdac8d8cefd');\n",
              "          const dataTable =\n",
              "            await google.colab.kernel.invokeFunction('convertToInteractive',\n",
              "                                                     [key], {});\n",
              "          if (!dataTable) return;\n",
              "\n",
              "          const docLinkHtml = 'Like what you see? Visit the ' +\n",
              "            '<a target=\"_blank\" href=https://colab.research.google.com/notebooks/data_table.ipynb>data table notebook</a>'\n",
              "            + ' to learn more about interactive tables.';\n",
              "          element.innerHTML = '';\n",
              "          dataTable['output_type'] = 'display_data';\n",
              "          await google.colab.output.renderOutput(dataTable, element);\n",
              "          const docLink = document.createElement('div');\n",
              "          docLink.innerHTML = docLinkHtml;\n",
              "          element.appendChild(docLink);\n",
              "        }\n",
              "      </script>\n",
              "    </div>\n",
              "  </div>\n",
              "  "
            ]
          },
          "metadata": {},
          "execution_count": 2185
        }
      ]
    },
    {
      "cell_type": "code",
      "source": [
        "sns.boxplot(x = 'Adj Close', data = df_train)"
      ],
      "metadata": {
        "colab": {
          "base_uri": "https://localhost:8080/",
          "height": 471
        },
        "id": "OW77uhX9cJb-",
        "outputId": "897282da-9ee6-4daa-b6f1-5682de4dd950"
      },
      "execution_count": 2186,
      "outputs": [
        {
          "output_type": "execute_result",
          "data": {
            "text/plain": [
              "<matplotlib.axes._subplots.AxesSubplot at 0x7f0dad21cc10>"
            ]
          },
          "metadata": {},
          "execution_count": 2186
        },
        {
          "output_type": "display_data",
          "data": {
            "text/plain": [
              "<Figure size 640x480 with 1 Axes>"
            ],
            "image/png": "[encoded data removed]"
          },
          "metadata": {}
        }
      ]
    },
    {
      "cell_type": "markdown",
      "source": [
        "###Test"
      ],
      "metadata": {
        "id": "pBYPj0Yg0J7P"
      }
    },
    {
      "cell_type": "code",
      "source": [
        "#Sin nulos\n",
        "df_test.info()"
      ],
      "metadata": {
        "colab": {
          "base_uri": "https://localhost:8080/"
        },
        "id": "hSOY4J3Or243",
        "outputId": "dc283d8f-f9ba-4bf2-fd37-416baafe8af2"
      },
      "execution_count": 2187,
      "outputs": [
        {
          "output_type": "stream",
          "name": "stdout",
          "text": [
            "<class 'pandas.core.frame.DataFrame'>\n",
            "RangeIndex: 726 entries, 0 to 725\n",
            "Data columns (total 8 columns):\n",
            " #   Column      Non-Null Count  Dtype  \n",
            "---  ------      --------------  -----  \n",
            " 0   test_index  726 non-null    int64  \n",
            " 1   Date        726 non-null    object \n",
            " 2   Open        726 non-null    float64\n",
            " 3   High        726 non-null    float64\n",
            " 4   Low         726 non-null    float64\n",
            " 5   Close       726 non-null    float64\n",
            " 6   Adj Close   726 non-null    float64\n",
            " 7   Volume      726 non-null    float64\n",
            "dtypes: float64(6), int64(1), object(1)\n",
            "memory usage: 45.5+ KB\n"
          ]
        }
      ]
    },
    {
      "cell_type": "code",
      "source": [
        "#Cambiamos columna 'Date' a tipo fecha\n",
        "df_test['Date'] = pd.to_datetime(df_test['Date'], format= '%Y-%M-%d')"
      ],
      "metadata": {
        "id": "hu2Z__OU0SZh"
      },
      "execution_count": 2188,
      "outputs": []
    },
    {
      "cell_type": "code",
      "source": [
        "df_test.info()"
      ],
      "metadata": {
        "colab": {
          "base_uri": "https://localhost:8080/"
        },
        "id": "_UvttOZO0dWS",
        "outputId": "307f87a8-670f-4bb0-eff5-bcf60baeabad"
      },
      "execution_count": 2189,
      "outputs": [
        {
          "output_type": "stream",
          "name": "stdout",
          "text": [
            "<class 'pandas.core.frame.DataFrame'>\n",
            "RangeIndex: 726 entries, 0 to 725\n",
            "Data columns (total 8 columns):\n",
            " #   Column      Non-Null Count  Dtype         \n",
            "---  ------      --------------  -----         \n",
            " 0   test_index  726 non-null    int64         \n",
            " 1   Date        726 non-null    datetime64[ns]\n",
            " 2   Open        726 non-null    float64       \n",
            " 3   High        726 non-null    float64       \n",
            " 4   Low         726 non-null    float64       \n",
            " 5   Close       726 non-null    float64       \n",
            " 6   Adj Close   726 non-null    float64       \n",
            " 7   Volume      726 non-null    float64       \n",
            "dtypes: datetime64[ns](1), float64(6), int64(1)\n",
            "memory usage: 45.5 KB\n"
          ]
        }
      ]
    },
    {
      "cell_type": "code",
      "source": [
        "df_test.set_index('test_index', inplace= True)"
      ],
      "metadata": {
        "id": "gTowTKApiDPu"
      },
      "execution_count": 2190,
      "outputs": []
    },
    {
      "cell_type": "code",
      "source": [
        "df_test.rename_axis('index', inplace = True)"
      ],
      "metadata": {
        "id": "H22ZdjReiL_J"
      },
      "execution_count": 2191,
      "outputs": []
    },
    {
      "cell_type": "code",
      "source": [
        "#Hacemos los cambios en las columnas: eliminamos 'Close' y creamos 'Dif_Open_Close' y 'MA3'"
      ],
      "metadata": {
        "id": "cpfOpRRNiYDa"
      },
      "execution_count": 2192,
      "outputs": []
    },
    {
      "cell_type": "code",
      "source": [
        "df_test.drop('Close', axis = 1, inplace= True)"
      ],
      "metadata": {
        "id": "esbS-kHpiimX"
      },
      "execution_count": 2193,
      "outputs": []
    },
    {
      "cell_type": "code",
      "source": [
        "df_test['Dif_Open_Close'] = (df_test['Adj Close'] - df_test['Open'])"
      ],
      "metadata": {
        "id": "cWml2mRaioas"
      },
      "execution_count": 2194,
      "outputs": []
    },
    {
      "cell_type": "code",
      "source": [
        "df_test['MA3'] = df_test['Adj Close'].rolling (3).mean()"
      ],
      "metadata": {
        "id": "cDP16kQfiz5Z"
      },
      "execution_count": 2195,
      "outputs": []
    },
    {
      "cell_type": "code",
      "source": [
        "df_train.fillna(method = 'backfill', inplace = True)"
      ],
      "metadata": {
        "id": "uFyOYLQnjv2l"
      },
      "execution_count": 2196,
      "outputs": []
    },
    {
      "cell_type": "code",
      "source": [
        "df_test.head()"
      ],
      "metadata": {
        "colab": {
          "base_uri": "https://localhost:8080/",
          "height": 237
        },
        "id": "B9li0A-80jtv",
        "outputId": "1626d69f-d086-419b-d4d6-6a4932f289e3"
      },
      "execution_count": 2197,
      "outputs": [
        {
          "output_type": "execute_result",
          "data": {
            "text/plain": [
              "                     Date         Open         High          Low    Adj Close  \\\n",
              "index                                                                           \n",
              "6557  2019-01-05 00:06:00  9136.799805  9173.400391  9095.000000  9150.500000   \n",
              "6558  2019-01-06 00:06:00  9169.200195  9246.200195  9136.700195  9169.200195   \n",
              "6559  2019-01-07 00:06:00  9186.700195  9261.400391  9185.700195  9236.099609   \n",
              "6560  2019-01-10 00:06:00  9284.200195  9302.200195  9248.099609  9294.099609   \n",
              "6561  2019-01-11 00:06:00  9288.599609  9332.500000  9273.400391  9282.099609   \n",
              "\n",
              "            Volume  Dif_Open_Close          MA3  \n",
              "index                                            \n",
              "6557   158753000.0       13.700195          NaN  \n",
              "6558   212720900.0        0.000000          NaN  \n",
              "6559   150664700.0       49.399414  9185.266601  \n",
              "6560   102323700.0        9.899414  9233.133138  \n",
              "6561   144701200.0       -6.500000  9270.766276  "
            ],
            "text/html": [
              "\n",
              "  <div id=\"df-32831c95-20ac-404f-8a00-b7cd42727de2\">\n",
              "    <div class=\"colab-df-container\">\n",
              "      <div>\n",
              "<style scoped>\n",
              "    .dataframe tbody tr th:only-of-type {\n",
              "        vertical-align: middle;\n",
              "    }\n",
              "\n",
              "    .dataframe tbody tr th {\n",
              "        vertical-align: top;\n",
              "    }\n",
              "\n",
              "    .dataframe thead th {\n",
              "        text-align: right;\n",
              "    }\n",
              "</style>\n",
              "<table border=\"1\" class=\"dataframe\">\n",
              "  <thead>\n",
              "    <tr style=\"text-align: right;\">\n",
              "      <th></th>\n",
              "      <th>Date</th>\n",
              "      <th>Open</th>\n",
              "      <th>High</th>\n",
              "      <th>Low</th>\n",
              "      <th>Adj Close</th>\n",
              "      <th>Volume</th>\n",
              "      <th>Dif_Open_Close</th>\n",
              "      <th>MA3</th>\n",
              "    </tr>\n",
              "    <tr>\n",
              "      <th>index</th>\n",
              "      <th></th>\n",
              "      <th></th>\n",
              "      <th></th>\n",
              "      <th></th>\n",
              "      <th></th>\n",
              "      <th></th>\n",
              "      <th></th>\n",
              "      <th></th>\n",
              "    </tr>\n",
              "  </thead>\n",
              "  <tbody>\n",
              "    <tr>\n",
              "      <th>6557</th>\n",
              "      <td>2019-01-05 00:06:00</td>\n",
              "      <td>9136.799805</td>\n",
              "      <td>9173.400391</td>\n",
              "      <td>9095.000000</td>\n",
              "      <td>9150.500000</td>\n",
              "      <td>158753000.0</td>\n",
              "      <td>13.700195</td>\n",
              "      <td>NaN</td>\n",
              "    </tr>\n",
              "    <tr>\n",
              "      <th>6558</th>\n",
              "      <td>2019-01-06 00:06:00</td>\n",
              "      <td>9169.200195</td>\n",
              "      <td>9246.200195</td>\n",
              "      <td>9136.700195</td>\n",
              "      <td>9169.200195</td>\n",
              "      <td>212720900.0</td>\n",
              "      <td>0.000000</td>\n",
              "      <td>NaN</td>\n",
              "    </tr>\n",
              "    <tr>\n",
              "      <th>6559</th>\n",
              "      <td>2019-01-07 00:06:00</td>\n",
              "      <td>9186.700195</td>\n",
              "      <td>9261.400391</td>\n",
              "      <td>9185.700195</td>\n",
              "      <td>9236.099609</td>\n",
              "      <td>150664700.0</td>\n",
              "      <td>49.399414</td>\n",
              "      <td>9185.266601</td>\n",
              "    </tr>\n",
              "    <tr>\n",
              "      <th>6560</th>\n",
              "      <td>2019-01-10 00:06:00</td>\n",
              "      <td>9284.200195</td>\n",
              "      <td>9302.200195</td>\n",
              "      <td>9248.099609</td>\n",
              "      <td>9294.099609</td>\n",
              "      <td>102323700.0</td>\n",
              "      <td>9.899414</td>\n",
              "      <td>9233.133138</td>\n",
              "    </tr>\n",
              "    <tr>\n",
              "      <th>6561</th>\n",
              "      <td>2019-01-11 00:06:00</td>\n",
              "      <td>9288.599609</td>\n",
              "      <td>9332.500000</td>\n",
              "      <td>9273.400391</td>\n",
              "      <td>9282.099609</td>\n",
              "      <td>144701200.0</td>\n",
              "      <td>-6.500000</td>\n",
              "      <td>9270.766276</td>\n",
              "    </tr>\n",
              "  </tbody>\n",
              "</table>\n",
              "</div>\n",
              "      <button class=\"colab-df-convert\" onclick=\"convertToInteractive('df-32831c95-20ac-404f-8a00-b7cd42727de2')\"\n",
              "              title=\"Convert this dataframe to an interactive table.\"\n",
              "              style=\"display:none;\">\n",
              "        \n",
              "  <svg xmlns=\"http://www.w3.org/2000/svg\" height=\"24px\"viewBox=\"0 0 24 24\"\n",
              "       width=\"24px\">\n",
              "    <path d=\"M0 0h24v24H0V0z\" fill=\"none\"/>\n",
              "    <path d=\"M18.56 5.44l.94 2.06.94-2.06 2.06-.94-2.06-.94-.94-2.06-.94 2.06-2.06.94zm-11 1L8.5 8.5l.94-2.06 2.06-.94-2.06-.94L8.5 2.5l-.94 2.06-2.06.94zm10 10l.94 2.06.94-2.06 2.06-.94-2.06-.94-.94-2.06-.94 2.06-2.06.94z\"/><path d=\"M17.41 7.96l-1.37-1.37c-.4-.4-.92-.59-1.43-.59-.52 0-1.04.2-1.43.59L10.3 9.45l-7.72 7.72c-.78.78-.78 2.05 0 2.83L4 21.41c.39.39.9.59 1.41.59.51 0 1.02-.2 1.41-.59l7.78-7.78 2.81-2.81c.8-.78.8-2.07 0-2.86zM5.41 20L4 18.59l7.72-7.72 1.47 1.35L5.41 20z\"/>\n",
              "  </svg>\n",
              "      </button>\n",
              "      \n",
              "  <style>\n",
              "    .colab-df-container {\n",
              "      display:flex;\n",
              "      flex-wrap:wrap;\n",
              "      gap: 12px;\n",
              "    }\n",
              "\n",
              "    .colab-df-convert {\n",
              "      background-color: #E8F0FE;\n",
              "      border: none;\n",
              "      border-radius: 50%;\n",
              "      cursor: pointer;\n",
              "      display: none;\n",
              "      fill: #1967D2;\n",
              "      height: 32px;\n",
              "      padding: 0 0 0 0;\n",
              "      width: 32px;\n",
              "    }\n",
              "\n",
              "    .colab-df-convert:hover {\n",
              "      background-color: #E2EBFA;\n",
              "      box-shadow: 0px 1px 2px rgba(60, 64, 67, 0.3), 0px 1px 3px 1px rgba(60, 64, 67, 0.15);\n",
              "      fill: #174EA6;\n",
              "    }\n",
              "\n",
              "    [theme=dark] .colab-df-convert {\n",
              "      background-color: #3B4455;\n",
              "      fill: #D2E3FC;\n",
              "    }\n",
              "\n",
              "    [theme=dark] .colab-df-convert:hover {\n",
              "      background-color: #434B5C;\n",
              "      box-shadow: 0px 1px 3px 1px rgba(0, 0, 0, 0.15);\n",
              "      filter: drop-shadow(0px 1px 2px rgba(0, 0, 0, 0.3));\n",
              "      fill: #FFFFFF;\n",
              "    }\n",
              "  </style>\n",
              "\n",
              "      <script>\n",
              "        const buttonEl =\n",
              "          document.querySelector('#df-32831c95-20ac-404f-8a00-b7cd42727de2 button.colab-df-convert');\n",
              "        buttonEl.style.display =\n",
              "          google.colab.kernel.accessAllowed ? 'block' : 'none';\n",
              "\n",
              "        async function convertToInteractive(key) {\n",
              "          const element = document.querySelector('#df-32831c95-20ac-404f-8a00-b7cd42727de2');\n",
              "          const dataTable =\n",
              "            await google.colab.kernel.invokeFunction('convertToInteractive',\n",
              "                                                     [key], {});\n",
              "          if (!dataTable) return;\n",
              "\n",
              "          const docLinkHtml = 'Like what you see? Visit the ' +\n",
              "            '<a target=\"_blank\" href=https://colab.research.google.com/notebooks/data_table.ipynb>data table notebook</a>'\n",
              "            + ' to learn more about interactive tables.';\n",
              "          element.innerHTML = '';\n",
              "          dataTable['output_type'] = 'display_data';\n",
              "          await google.colab.output.renderOutput(dataTable, element);\n",
              "          const docLink = document.createElement('div');\n",
              "          docLink.innerHTML = docLinkHtml;\n",
              "          element.appendChild(docLink);\n",
              "        }\n",
              "      </script>\n",
              "    </div>\n",
              "  </div>\n",
              "  "
            ]
          },
          "metadata": {},
          "execution_count": 2197
        }
      ]
    },
    {
      "cell_type": "markdown",
      "source": [
        "###Tweets"
      ],
      "metadata": {
        "id": "x9XpVy08yc5I"
      }
    },
    {
      "cell_type": "code",
      "source": [
        "df_tweets.info()"
      ],
      "metadata": {
        "colab": {
          "base_uri": "https://localhost:8080/"
        },
        "id": "qKC2231Cr27b",
        "outputId": "a033ba7d-1a1b-499f-c188-9bfd774fda13"
      },
      "execution_count": 2198,
      "outputs": [
        {
          "output_type": "stream",
          "name": "stdout",
          "text": [
            "<class 'pandas.core.frame.DataFrame'>\n",
            "RangeIndex: 9801 entries, 0 to 9800\n",
            "Data columns (total 3 columns):\n",
            " #   Column     Non-Null Count  Dtype \n",
            "---  ------     --------------  ----- \n",
            " 0   tweetDate  9799 non-null   object\n",
            " 1   handle     9798 non-null   object\n",
            " 2   text       9797 non-null   object\n",
            "dtypes: object(3)\n",
            "memory usage: 229.8+ KB\n"
          ]
        }
      ]
    },
    {
      "cell_type": "code",
      "source": [
        "df_tweets.isnull().sum()"
      ],
      "metadata": {
        "colab": {
          "base_uri": "https://localhost:8080/"
        },
        "id": "ys_Q3i54y0fK",
        "outputId": "03bed873-881c-4bbf-88c9-d46cd8c98acb"
      },
      "execution_count": 2199,
      "outputs": [
        {
          "output_type": "execute_result",
          "data": {
            "text/plain": [
              "tweetDate    2\n",
              "handle       3\n",
              "text         4\n",
              "dtype: int64"
            ]
          },
          "metadata": {},
          "execution_count": 2199
        }
      ]
    },
    {
      "cell_type": "code",
      "source": [
        "\n",
        "df_tweets.head()"
      ],
      "metadata": {
        "colab": {
          "base_uri": "https://localhost:8080/",
          "height": 206
        },
        "id": "MCPxHJeer2-B",
        "outputId": "6b389ae2-77e7-4c65-d911-6be196922bf0"
      },
      "execution_count": 2200,
      "outputs": [
        {
          "output_type": "execute_result",
          "data": {
            "text/plain": [
              "                        tweetDate         handle  \\\n",
              "0  Sat Apr 09 14:47:45 +0000 2022       abelac62   \n",
              "1  Thu Apr 07 19:14:36 +0000 2022  LluisPerarnau   \n",
              "2  Mon Apr 04 16:48:45 +0000 2022   Pegaso121080   \n",
              "3  Tue Apr 05 07:23:16 +0000 2022      zonavalue   \n",
              "4  Thu Mar 31 16:07:43 +0000 2022     EPeconomia   \n",
              "\n",
              "                                                text  \n",
              "0  He hecho el repaso de todos los componentes de...  \n",
              "1  Els projectes que han presentat les empreses d...  \n",
              "2  Por si no lo has visto, o no lo encuentras en ...  \n",
              "3  📈 #BOLSA: El #Ibex35 abre en 🟢 \\n\\n🇪🇸 #Ibex35 ...  \n",
              "4  El #Ibex35 retrocede un 0,4% en marzo y un 3,0...  "
            ],
            "text/html": [
              "\n",
              "  <div id=\"df-e6834f68-0a10-47be-94bd-ac917af711b0\">\n",
              "    <div class=\"colab-df-container\">\n",
              "      <div>\n",
              "<style scoped>\n",
              "    .dataframe tbody tr th:only-of-type {\n",
              "        vertical-align: middle;\n",
              "    }\n",
              "\n",
              "    .dataframe tbody tr th {\n",
              "        vertical-align: top;\n",
              "    }\n",
              "\n",
              "    .dataframe thead th {\n",
              "        text-align: right;\n",
              "    }\n",
              "</style>\n",
              "<table border=\"1\" class=\"dataframe\">\n",
              "  <thead>\n",
              "    <tr style=\"text-align: right;\">\n",
              "      <th></th>\n",
              "      <th>tweetDate</th>\n",
              "      <th>handle</th>\n",
              "      <th>text</th>\n",
              "    </tr>\n",
              "  </thead>\n",
              "  <tbody>\n",
              "    <tr>\n",
              "      <th>0</th>\n",
              "      <td>Sat Apr 09 14:47:45 +0000 2022</td>\n",
              "      <td>abelac62</td>\n",
              "      <td>He hecho el repaso de todos los componentes de...</td>\n",
              "    </tr>\n",
              "    <tr>\n",
              "      <th>1</th>\n",
              "      <td>Thu Apr 07 19:14:36 +0000 2022</td>\n",
              "      <td>LluisPerarnau</td>\n",
              "      <td>Els projectes que han presentat les empreses d...</td>\n",
              "    </tr>\n",
              "    <tr>\n",
              "      <th>2</th>\n",
              "      <td>Mon Apr 04 16:48:45 +0000 2022</td>\n",
              "      <td>Pegaso121080</td>\n",
              "      <td>Por si no lo has visto, o no lo encuentras en ...</td>\n",
              "    </tr>\n",
              "    <tr>\n",
              "      <th>3</th>\n",
              "      <td>Tue Apr 05 07:23:16 +0000 2022</td>\n",
              "      <td>zonavalue</td>\n",
              "      <td>📈 #BOLSA: El #Ibex35 abre en 🟢 \\n\\n🇪🇸 #Ibex35 ...</td>\n",
              "    </tr>\n",
              "    <tr>\n",
              "      <th>4</th>\n",
              "      <td>Thu Mar 31 16:07:43 +0000 2022</td>\n",
              "      <td>EPeconomia</td>\n",
              "      <td>El #Ibex35 retrocede un 0,4% en marzo y un 3,0...</td>\n",
              "    </tr>\n",
              "  </tbody>\n",
              "</table>\n",
              "</div>\n",
              "      <button class=\"colab-df-convert\" onclick=\"convertToInteractive('df-e6834f68-0a10-47be-94bd-ac917af711b0')\"\n",
              "              title=\"Convert this dataframe to an interactive table.\"\n",
              "              style=\"display:none;\">\n",
              "        \n",
              "  <svg xmlns=\"http://www.w3.org/2000/svg\" height=\"24px\"viewBox=\"0 0 24 24\"\n",
              "       width=\"24px\">\n",
              "    <path d=\"M0 0h24v24H0V0z\" fill=\"none\"/>\n",
              "    <path d=\"M18.56 5.44l.94 2.06.94-2.06 2.06-.94-2.06-.94-.94-2.06-.94 2.06-2.06.94zm-11 1L8.5 8.5l.94-2.06 2.06-.94-2.06-.94L8.5 2.5l-.94 2.06-2.06.94zm10 10l.94 2.06.94-2.06 2.06-.94-2.06-.94-.94-2.06-.94 2.06-2.06.94z\"/><path d=\"M17.41 7.96l-1.37-1.37c-.4-.4-.92-.59-1.43-.59-.52 0-1.04.2-1.43.59L10.3 9.45l-7.72 7.72c-.78.78-.78 2.05 0 2.83L4 21.41c.39.39.9.59 1.41.59.51 0 1.02-.2 1.41-.59l7.78-7.78 2.81-2.81c.8-.78.8-2.07 0-2.86zM5.41 20L4 18.59l7.72-7.72 1.47 1.35L5.41 20z\"/>\n",
              "  </svg>\n",
              "      </button>\n",
              "      \n",
              "  <style>\n",
              "    .colab-df-container {\n",
              "      display:flex;\n",
              "      flex-wrap:wrap;\n",
              "      gap: 12px;\n",
              "    }\n",
              "\n",
              "    .colab-df-convert {\n",
              "      background-color: #E8F0FE;\n",
              "      border: none;\n",
              "      border-radius: 50%;\n",
              "      cursor: pointer;\n",
              "      display: none;\n",
              "      fill: #1967D2;\n",
              "      height: 32px;\n",
              "      padding: 0 0 0 0;\n",
              "      width: 32px;\n",
              "    }\n",
              "\n",
              "    .colab-df-convert:hover {\n",
              "      background-color: #E2EBFA;\n",
              "      box-shadow: 0px 1px 2px rgba(60, 64, 67, 0.3), 0px 1px 3px 1px rgba(60, 64, 67, 0.15);\n",
              "      fill: #174EA6;\n",
              "    }\n",
              "\n",
              "    [theme=dark] .colab-df-convert {\n",
              "      background-color: #3B4455;\n",
              "      fill: #D2E3FC;\n",
              "    }\n",
              "\n",
              "    [theme=dark] .colab-df-convert:hover {\n",
              "      background-color: #434B5C;\n",
              "      box-shadow: 0px 1px 3px 1px rgba(0, 0, 0, 0.15);\n",
              "      filter: drop-shadow(0px 1px 2px rgba(0, 0, 0, 0.3));\n",
              "      fill: #FFFFFF;\n",
              "    }\n",
              "  </style>\n",
              "\n",
              "      <script>\n",
              "        const buttonEl =\n",
              "          document.querySelector('#df-e6834f68-0a10-47be-94bd-ac917af711b0 button.colab-df-convert');\n",
              "        buttonEl.style.display =\n",
              "          google.colab.kernel.accessAllowed ? 'block' : 'none';\n",
              "\n",
              "        async function convertToInteractive(key) {\n",
              "          const element = document.querySelector('#df-e6834f68-0a10-47be-94bd-ac917af711b0');\n",
              "          const dataTable =\n",
              "            await google.colab.kernel.invokeFunction('convertToInteractive',\n",
              "                                                     [key], {});\n",
              "          if (!dataTable) return;\n",
              "\n",
              "          const docLinkHtml = 'Like what you see? Visit the ' +\n",
              "            '<a target=\"_blank\" href=https://colab.research.google.com/notebooks/data_table.ipynb>data table notebook</a>'\n",
              "            + ' to learn more about interactive tables.';\n",
              "          element.innerHTML = '';\n",
              "          dataTable['output_type'] = 'display_data';\n",
              "          await google.colab.output.renderOutput(dataTable, element);\n",
              "          const docLink = document.createElement('div');\n",
              "          docLink.innerHTML = docLinkHtml;\n",
              "          element.appendChild(docLink);\n",
              "        }\n",
              "      </script>\n",
              "    </div>\n",
              "  </div>\n",
              "  "
            ]
          },
          "metadata": {},
          "execution_count": 2200
        }
      ]
    },
    {
      "cell_type": "markdown",
      "source": [
        "#Modelo"
      ],
      "metadata": {
        "id": "11xbNiuHJnyF"
      }
    },
    {
      "cell_type": "code",
      "source": [
        "df_train.reset_index(inplace= True)"
      ],
      "metadata": {
        "id": "f5F8kLGKR4Qz"
      },
      "execution_count": 2201,
      "outputs": []
    },
    {
      "cell_type": "code",
      "source": [
        "df_train.head()"
      ],
      "metadata": {
        "colab": {
          "base_uri": "https://localhost:8080/",
          "height": 206
        },
        "id": "eMC8mR8NUWDH",
        "outputId": "336e1288-781d-4531-f4ca-0cf7f5a745f2"
      },
      "execution_count": 2202,
      "outputs": [
        {
          "output_type": "execute_result",
          "data": {
            "text/plain": [
              "                 Date          Open          High           Low     Adj Close  \\\n",
              "0 2000-01-24 00:07:00  10879.599609  10924.400391  10812.500000  10831.489258   \n",
              "1 2000-01-25 00:07:00  10831.500000  10842.200195  10703.400391  10714.588867   \n",
              "2 2000-01-26 00:07:00  10722.599609  10840.200195  10722.599609  10743.789063   \n",
              "3 2000-01-27 00:07:00  10743.799805  10856.599609  10713.400391  10725.989258   \n",
              "4 2000-01-28 00:07:00  10726.000000  10735.000000  10526.799805  10559.989258   \n",
              "\n",
              "      Volume  Target  Dif_Open_Close           MA3  \n",
              "0  5545600.0       0      -48.110351  10763.289063  \n",
              "1  7368000.0       0     -116.911133  10763.289063  \n",
              "2  6643800.0       0       21.189454  10763.289063  \n",
              "3  6989400.0       0      -17.810547  10728.122396  \n",
              "4  6670000.0       1     -166.010742  10676.589193  "
            ],
            "text/html": [
              "\n",
              "  <div id=\"df-8827947d-85a2-4c5b-ae19-93479956fba5\">\n",
              "    <div class=\"colab-df-container\">\n",
              "      <div>\n",
              "<style scoped>\n",
              "    .dataframe tbody tr th:only-of-type {\n",
              "        vertical-align: middle;\n",
              "    }\n",
              "\n",
              "    .dataframe tbody tr th {\n",
              "        vertical-align: top;\n",
              "    }\n",
              "\n",
              "    .dataframe thead th {\n",
              "        text-align: right;\n",
              "    }\n",
              "</style>\n",
              "<table border=\"1\" class=\"dataframe\">\n",
              "  <thead>\n",
              "    <tr style=\"text-align: right;\">\n",
              "      <th></th>\n",
              "      <th>Date</th>\n",
              "      <th>Open</th>\n",
              "      <th>High</th>\n",
              "      <th>Low</th>\n",
              "      <th>Adj Close</th>\n",
              "      <th>Volume</th>\n",
              "      <th>Target</th>\n",
              "      <th>Dif_Open_Close</th>\n",
              "      <th>MA3</th>\n",
              "    </tr>\n",
              "  </thead>\n",
              "  <tbody>\n",
              "    <tr>\n",
              "      <th>0</th>\n",
              "      <td>2000-01-24 00:07:00</td>\n",
              "      <td>10879.599609</td>\n",
              "      <td>10924.400391</td>\n",
              "      <td>10812.500000</td>\n",
              "      <td>10831.489258</td>\n",
              "      <td>5545600.0</td>\n",
              "      <td>0</td>\n",
              "      <td>-48.110351</td>\n",
              "      <td>10763.289063</td>\n",
              "    </tr>\n",
              "    <tr>\n",
              "      <th>1</th>\n",
              "      <td>2000-01-25 00:07:00</td>\n",
              "      <td>10831.500000</td>\n",
              "      <td>10842.200195</td>\n",
              "      <td>10703.400391</td>\n",
              "      <td>10714.588867</td>\n",
              "      <td>7368000.0</td>\n",
              "      <td>0</td>\n",
              "      <td>-116.911133</td>\n",
              "      <td>10763.289063</td>\n",
              "    </tr>\n",
              "    <tr>\n",
              "      <th>2</th>\n",
              "      <td>2000-01-26 00:07:00</td>\n",
              "      <td>10722.599609</td>\n",
              "      <td>10840.200195</td>\n",
              "      <td>10722.599609</td>\n",
              "      <td>10743.789063</td>\n",
              "      <td>6643800.0</td>\n",
              "      <td>0</td>\n",
              "      <td>21.189454</td>\n",
              "      <td>10763.289063</td>\n",
              "    </tr>\n",
              "    <tr>\n",
              "      <th>3</th>\n",
              "      <td>2000-01-27 00:07:00</td>\n",
              "      <td>10743.799805</td>\n",
              "      <td>10856.599609</td>\n",
              "      <td>10713.400391</td>\n",
              "      <td>10725.989258</td>\n",
              "      <td>6989400.0</td>\n",
              "      <td>0</td>\n",
              "      <td>-17.810547</td>\n",
              "      <td>10728.122396</td>\n",
              "    </tr>\n",
              "    <tr>\n",
              "      <th>4</th>\n",
              "      <td>2000-01-28 00:07:00</td>\n",
              "      <td>10726.000000</td>\n",
              "      <td>10735.000000</td>\n",
              "      <td>10526.799805</td>\n",
              "      <td>10559.989258</td>\n",
              "      <td>6670000.0</td>\n",
              "      <td>1</td>\n",
              "      <td>-166.010742</td>\n",
              "      <td>10676.589193</td>\n",
              "    </tr>\n",
              "  </tbody>\n",
              "</table>\n",
              "</div>\n",
              "      <button class=\"colab-df-convert\" onclick=\"convertToInteractive('df-8827947d-85a2-4c5b-ae19-93479956fba5')\"\n",
              "              title=\"Convert this dataframe to an interactive table.\"\n",
              "              style=\"display:none;\">\n",
              "        \n",
              "  <svg xmlns=\"http://www.w3.org/2000/svg\" height=\"24px\"viewBox=\"0 0 24 24\"\n",
              "       width=\"24px\">\n",
              "    <path d=\"M0 0h24v24H0V0z\" fill=\"none\"/>\n",
              "    <path d=\"M18.56 5.44l.94 2.06.94-2.06 2.06-.94-2.06-.94-.94-2.06-.94 2.06-2.06.94zm-11 1L8.5 8.5l.94-2.06 2.06-.94-2.06-.94L8.5 2.5l-.94 2.06-2.06.94zm10 10l.94 2.06.94-2.06 2.06-.94-2.06-.94-.94-2.06-.94 2.06-2.06.94z\"/><path d=\"M17.41 7.96l-1.37-1.37c-.4-.4-.92-.59-1.43-.59-.52 0-1.04.2-1.43.59L10.3 9.45l-7.72 7.72c-.78.78-.78 2.05 0 2.83L4 21.41c.39.39.9.59 1.41.59.51 0 1.02-.2 1.41-.59l7.78-7.78 2.81-2.81c.8-.78.8-2.07 0-2.86zM5.41 20L4 18.59l7.72-7.72 1.47 1.35L5.41 20z\"/>\n",
              "  </svg>\n",
              "      </button>\n",
              "      \n",
              "  <style>\n",
              "    .colab-df-container {\n",
              "      display:flex;\n",
              "      flex-wrap:wrap;\n",
              "      gap: 12px;\n",
              "    }\n",
              "\n",
              "    .colab-df-convert {\n",
              "      background-color: #E8F0FE;\n",
              "      border: none;\n",
              "      border-radius: 50%;\n",
              "      cursor: pointer;\n",
              "      display: none;\n",
              "      fill: #1967D2;\n",
              "      height: 32px;\n",
              "      padding: 0 0 0 0;\n",
              "      width: 32px;\n",
              "    }\n",
              "\n",
              "    .colab-df-convert:hover {\n",
              "      background-color: #E2EBFA;\n",
              "      box-shadow: 0px 1px 2px rgba(60, 64, 67, 0.3), 0px 1px 3px 1px rgba(60, 64, 67, 0.15);\n",
              "      fill: #174EA6;\n",
              "    }\n",
              "\n",
              "    [theme=dark] .colab-df-convert {\n",
              "      background-color: #3B4455;\n",
              "      fill: #D2E3FC;\n",
              "    }\n",
              "\n",
              "    [theme=dark] .colab-df-convert:hover {\n",
              "      background-color: #434B5C;\n",
              "      box-shadow: 0px 1px 3px 1px rgba(0, 0, 0, 0.15);\n",
              "      filter: drop-shadow(0px 1px 2px rgba(0, 0, 0, 0.3));\n",
              "      fill: #FFFFFF;\n",
              "    }\n",
              "  </style>\n",
              "\n",
              "      <script>\n",
              "        const buttonEl =\n",
              "          document.querySelector('#df-8827947d-85a2-4c5b-ae19-93479956fba5 button.colab-df-convert');\n",
              "        buttonEl.style.display =\n",
              "          google.colab.kernel.accessAllowed ? 'block' : 'none';\n",
              "\n",
              "        async function convertToInteractive(key) {\n",
              "          const element = document.querySelector('#df-8827947d-85a2-4c5b-ae19-93479956fba5');\n",
              "          const dataTable =\n",
              "            await google.colab.kernel.invokeFunction('convertToInteractive',\n",
              "                                                     [key], {});\n",
              "          if (!dataTable) return;\n",
              "\n",
              "          const docLinkHtml = 'Like what you see? Visit the ' +\n",
              "            '<a target=\"_blank\" href=https://colab.research.google.com/notebooks/data_table.ipynb>data table notebook</a>'\n",
              "            + ' to learn more about interactive tables.';\n",
              "          element.innerHTML = '';\n",
              "          dataTable['output_type'] = 'display_data';\n",
              "          await google.colab.output.renderOutput(dataTable, element);\n",
              "          const docLink = document.createElement('div');\n",
              "          docLink.innerHTML = docLinkHtml;\n",
              "          element.appendChild(docLink);\n",
              "        }\n",
              "      </script>\n",
              "    </div>\n",
              "  </div>\n",
              "  "
            ]
          },
          "metadata": {},
          "execution_count": 2202
        }
      ]
    },
    {
      "cell_type": "code",
      "source": [
        "df_train_listo = df_train.drop(['Date', 'Target'], axis = 1)"
      ],
      "metadata": {
        "id": "bhMmB3UsKg2o"
      },
      "execution_count": 2203,
      "outputs": []
    },
    {
      "cell_type": "code",
      "source": [
        "df_train_listo.rename_axis('index', inplace = True)"
      ],
      "metadata": {
        "id": "mVpRHnm_SjXX"
      },
      "execution_count": 2204,
      "outputs": []
    },
    {
      "cell_type": "code",
      "source": [
        "df_train_listo.head()"
      ],
      "metadata": {
        "colab": {
          "base_uri": "https://localhost:8080/",
          "height": 237
        },
        "id": "8cLmNLQ_kBKK",
        "outputId": "54b1a4b8-fad7-4668-9ac0-0566609d013e"
      },
      "execution_count": 2205,
      "outputs": [
        {
          "output_type": "execute_result",
          "data": {
            "text/plain": [
              "               Open          High           Low     Adj Close     Volume  \\\n",
              "index                                                                      \n",
              "0      10879.599609  10924.400391  10812.500000  10831.489258  5545600.0   \n",
              "1      10831.500000  10842.200195  10703.400391  10714.588867  7368000.0   \n",
              "2      10722.599609  10840.200195  10722.599609  10743.789063  6643800.0   \n",
              "3      10743.799805  10856.599609  10713.400391  10725.989258  6989400.0   \n",
              "4      10726.000000  10735.000000  10526.799805  10559.989258  6670000.0   \n",
              "\n",
              "       Dif_Open_Close           MA3  \n",
              "index                                \n",
              "0          -48.110351  10763.289063  \n",
              "1         -116.911133  10763.289063  \n",
              "2           21.189454  10763.289063  \n",
              "3          -17.810547  10728.122396  \n",
              "4         -166.010742  10676.589193  "
            ],
            "text/html": [
              "\n",
              "  <div id=\"df-065c1c65-fab8-44ec-8222-e2db678a5748\">\n",
              "    <div class=\"colab-df-container\">\n",
              "      <div>\n",
              "<style scoped>\n",
              "    .dataframe tbody tr th:only-of-type {\n",
              "        vertical-align: middle;\n",
              "    }\n",
              "\n",
              "    .dataframe tbody tr th {\n",
              "        vertical-align: top;\n",
              "    }\n",
              "\n",
              "    .dataframe thead th {\n",
              "        text-align: right;\n",
              "    }\n",
              "</style>\n",
              "<table border=\"1\" class=\"dataframe\">\n",
              "  <thead>\n",
              "    <tr style=\"text-align: right;\">\n",
              "      <th></th>\n",
              "      <th>Open</th>\n",
              "      <th>High</th>\n",
              "      <th>Low</th>\n",
              "      <th>Adj Close</th>\n",
              "      <th>Volume</th>\n",
              "      <th>Dif_Open_Close</th>\n",
              "      <th>MA3</th>\n",
              "    </tr>\n",
              "    <tr>\n",
              "      <th>index</th>\n",
              "      <th></th>\n",
              "      <th></th>\n",
              "      <th></th>\n",
              "      <th></th>\n",
              "      <th></th>\n",
              "      <th></th>\n",
              "      <th></th>\n",
              "    </tr>\n",
              "  </thead>\n",
              "  <tbody>\n",
              "    <tr>\n",
              "      <th>0</th>\n",
              "      <td>10879.599609</td>\n",
              "      <td>10924.400391</td>\n",
              "      <td>10812.500000</td>\n",
              "      <td>10831.489258</td>\n",
              "      <td>5545600.0</td>\n",
              "      <td>-48.110351</td>\n",
              "      <td>10763.289063</td>\n",
              "    </tr>\n",
              "    <tr>\n",
              "      <th>1</th>\n",
              "      <td>10831.500000</td>\n",
              "      <td>10842.200195</td>\n",
              "      <td>10703.400391</td>\n",
              "      <td>10714.588867</td>\n",
              "      <td>7368000.0</td>\n",
              "      <td>-116.911133</td>\n",
              "      <td>10763.289063</td>\n",
              "    </tr>\n",
              "    <tr>\n",
              "      <th>2</th>\n",
              "      <td>10722.599609</td>\n",
              "      <td>10840.200195</td>\n",
              "      <td>10722.599609</td>\n",
              "      <td>10743.789063</td>\n",
              "      <td>6643800.0</td>\n",
              "      <td>21.189454</td>\n",
              "      <td>10763.289063</td>\n",
              "    </tr>\n",
              "    <tr>\n",
              "      <th>3</th>\n",
              "      <td>10743.799805</td>\n",
              "      <td>10856.599609</td>\n",
              "      <td>10713.400391</td>\n",
              "      <td>10725.989258</td>\n",
              "      <td>6989400.0</td>\n",
              "      <td>-17.810547</td>\n",
              "      <td>10728.122396</td>\n",
              "    </tr>\n",
              "    <tr>\n",
              "      <th>4</th>\n",
              "      <td>10726.000000</td>\n",
              "      <td>10735.000000</td>\n",
              "      <td>10526.799805</td>\n",
              "      <td>10559.989258</td>\n",
              "      <td>6670000.0</td>\n",
              "      <td>-166.010742</td>\n",
              "      <td>10676.589193</td>\n",
              "    </tr>\n",
              "  </tbody>\n",
              "</table>\n",
              "</div>\n",
              "      <button class=\"colab-df-convert\" onclick=\"convertToInteractive('df-065c1c65-fab8-44ec-8222-e2db678a5748')\"\n",
              "              title=\"Convert this dataframe to an interactive table.\"\n",
              "              style=\"display:none;\">\n",
              "        \n",
              "  <svg xmlns=\"http://www.w3.org/2000/svg\" height=\"24px\"viewBox=\"0 0 24 24\"\n",
              "       width=\"24px\">\n",
              "    <path d=\"M0 0h24v24H0V0z\" fill=\"none\"/>\n",
              "    <path d=\"M18.56 5.44l.94 2.06.94-2.06 2.06-.94-2.06-.94-.94-2.06-.94 2.06-2.06.94zm-11 1L8.5 8.5l.94-2.06 2.06-.94-2.06-.94L8.5 2.5l-.94 2.06-2.06.94zm10 10l.94 2.06.94-2.06 2.06-.94-2.06-.94-.94-2.06-.94 2.06-2.06.94z\"/><path d=\"M17.41 7.96l-1.37-1.37c-.4-.4-.92-.59-1.43-.59-.52 0-1.04.2-1.43.59L10.3 9.45l-7.72 7.72c-.78.78-.78 2.05 0 2.83L4 21.41c.39.39.9.59 1.41.59.51 0 1.02-.2 1.41-.59l7.78-7.78 2.81-2.81c.8-.78.8-2.07 0-2.86zM5.41 20L4 18.59l7.72-7.72 1.47 1.35L5.41 20z\"/>\n",
              "  </svg>\n",
              "      </button>\n",
              "      \n",
              "  <style>\n",
              "    .colab-df-container {\n",
              "      display:flex;\n",
              "      flex-wrap:wrap;\n",
              "      gap: 12px;\n",
              "    }\n",
              "\n",
              "    .colab-df-convert {\n",
              "      background-color: #E8F0FE;\n",
              "      border: none;\n",
              "      border-radius: 50%;\n",
              "      cursor: pointer;\n",
              "      display: none;\n",
              "      fill: #1967D2;\n",
              "      height: 32px;\n",
              "      padding: 0 0 0 0;\n",
              "      width: 32px;\n",
              "    }\n",
              "\n",
              "    .colab-df-convert:hover {\n",
              "      background-color: #E2EBFA;\n",
              "      box-shadow: 0px 1px 2px rgba(60, 64, 67, 0.3), 0px 1px 3px 1px rgba(60, 64, 67, 0.15);\n",
              "      fill: #174EA6;\n",
              "    }\n",
              "\n",
              "    [theme=dark] .colab-df-convert {\n",
              "      background-color: #3B4455;\n",
              "      fill: #D2E3FC;\n",
              "    }\n",
              "\n",
              "    [theme=dark] .colab-df-convert:hover {\n",
              "      background-color: #434B5C;\n",
              "      box-shadow: 0px 1px 3px 1px rgba(0, 0, 0, 0.15);\n",
              "      filter: drop-shadow(0px 1px 2px rgba(0, 0, 0, 0.3));\n",
              "      fill: #FFFFFF;\n",
              "    }\n",
              "  </style>\n",
              "\n",
              "      <script>\n",
              "        const buttonEl =\n",
              "          document.querySelector('#df-065c1c65-fab8-44ec-8222-e2db678a5748 button.colab-df-convert');\n",
              "        buttonEl.style.display =\n",
              "          google.colab.kernel.accessAllowed ? 'block' : 'none';\n",
              "\n",
              "        async function convertToInteractive(key) {\n",
              "          const element = document.querySelector('#df-065c1c65-fab8-44ec-8222-e2db678a5748');\n",
              "          const dataTable =\n",
              "            await google.colab.kernel.invokeFunction('convertToInteractive',\n",
              "                                                     [key], {});\n",
              "          if (!dataTable) return;\n",
              "\n",
              "          const docLinkHtml = 'Like what you see? Visit the ' +\n",
              "            '<a target=\"_blank\" href=https://colab.research.google.com/notebooks/data_table.ipynb>data table notebook</a>'\n",
              "            + ' to learn more about interactive tables.';\n",
              "          element.innerHTML = '';\n",
              "          dataTable['output_type'] = 'display_data';\n",
              "          await google.colab.output.renderOutput(dataTable, element);\n",
              "          const docLink = document.createElement('div');\n",
              "          docLink.innerHTML = docLinkHtml;\n",
              "          element.appendChild(docLink);\n",
              "        }\n",
              "      </script>\n",
              "    </div>\n",
              "  </div>\n",
              "  "
            ]
          },
          "metadata": {},
          "execution_count": 2205
        }
      ]
    },
    {
      "cell_type": "code",
      "source": [
        "accuracy= []\n",
        "recall =[]\n",
        "roc_auc= []\n",
        "precision = []\n",
        "f1= []\n",
        "X= df_train_listo\n",
        "y= df_train['Target']\n",
        "X_train, X_test, y_train, y_test = train_test_split(X, y, test_size=0.3, random_state=42)"
      ],
      "metadata": {
        "id": "icSPH0Awr3Ae"
      },
      "execution_count": 2206,
      "outputs": []
    },
    {
      "cell_type": "code",
      "source": [
        "print(X_train.shape)\n",
        "print(y_train.shape)\n",
        "print(X_test.shape)"
      ],
      "metadata": {
        "colab": {
          "base_uri": "https://localhost:8080/"
        },
        "id": "fM3KXWZQNvOT",
        "outputId": "988c8d1d-6cd2-4506-c3e0-dc9bc91185d3"
      },
      "execution_count": 2207,
      "outputs": [
        {
          "output_type": "stream",
          "name": "stdout",
          "text": [
            "(3379, 7)\n",
            "(3379,)\n",
            "(1449, 7)\n"
          ]
        }
      ]
    },
    {
      "cell_type": "markdown",
      "source": [
        "Decision Tree"
      ],
      "metadata": {
        "id": "EFipXFyEjRx7"
      }
    },
    {
      "cell_type": "code",
      "source": [
        "model_dct =  RandomForestClassifier(random_state=0)\n",
        "model_dct.fit(X_train, y_train)\n",
        "y_pred = model_dct.predict(X_test)\n",
        "accuracy.append(round(accuracy_score(y_test, y_pred),5))\n",
        "recall.append(round(recall_score(y_test, y_pred),5))\n",
        "roc_auc.append(round(roc_auc_score(y_test, y_pred),5))\n",
        "precision.append(round(precision_score(y_test, y_pred),5))\n",
        "f1.append(round(f1_score(y_test, y_pred),5))"
      ],
      "metadata": {
        "id": "qDwFksisjDWl"
      },
      "execution_count": 2208,
      "outputs": []
    },
    {
      "cell_type": "code",
      "source": [
        "print(\"Accuracy\",(round(accuracy_score(y_test, y_pred),5)))\n",
        "print(\"Recall\",(round(recall_score(y_test, y_pred),5)))\n",
        "print(\"Roc_auc\",(round(roc_auc_score(y_test, y_pred),5)))\n",
        "print(\"Precision\",(round(precision_score(y_test, y_pred),5)))\n",
        "print(\"F1\",(round(f1_score(y_test, y_pred),5)))"
      ],
      "metadata": {
        "colab": {
          "base_uri": "https://localhost:8080/"
        },
        "id": "FcDahWwJjaEZ",
        "outputId": "8b164fd6-c30d-4640-a9c7-ed2888f11ce2"
      },
      "execution_count": 2209,
      "outputs": [
        {
          "output_type": "stream",
          "name": "stdout",
          "text": [
            "Accuracy 0.5528\n",
            "Recall 0.58675\n",
            "Roc_auc 0.5513\n",
            "Precision 0.56868\n",
            "F1 0.57757\n"
          ]
        }
      ]
    },
    {
      "cell_type": "markdown",
      "source": [
        "XGBoost"
      ],
      "metadata": {
        "id": "-ZtsT-nZjWh9"
      }
    },
    {
      "cell_type": "code",
      "source": [
        "model_xgb = xgb.XGBClassifier()"
      ],
      "metadata": {
        "id": "JIuvMyj6NPbD"
      },
      "execution_count": 2210,
      "outputs": []
    },
    {
      "cell_type": "code",
      "source": [
        "model_xgb.fit(\n",
        "    X = X_train, \n",
        "    y = y_train,\n",
        ")\n",
        "pred_xgb = model_xgb.predict(X_test)"
      ],
      "metadata": {
        "id": "tgm9Fj7fr3Cn"
      },
      "execution_count": 2211,
      "outputs": []
    },
    {
      "cell_type": "code",
      "source": [
        "accuracy.append(round(accuracy_score(y_test, pred_xgb),5))\n",
        "recall.append(round(recall_score(y_test, pred_xgb),5))\n",
        "roc_auc.append(round(roc_auc_score(y_test, pred_xgb),5))\n",
        "precision.append(round(precision_score(y_test, pred_xgb),5))\n",
        "f1.append(round(f1_score(y_test, pred_xgb),5))"
      ],
      "metadata": {
        "id": "R38uGL0PZNZz"
      },
      "execution_count": 2212,
      "outputs": []
    },
    {
      "cell_type": "code",
      "source": [
        "print(\"Accuracy\",(round(accuracy_score(y_test, pred_xgb),5)))\n",
        "print(\"Recall\",(round(recall_score(y_test, pred_xgb),5)))\n",
        "print(\"Roc_auc\",(round(roc_auc_score(y_test, pred_xgb),5)))\n",
        "print(\"Precision\",(round(precision_score(y_test, pred_xgb),5)))\n",
        "print(\"F1\",(round(f1_score(y_test, pred_xgb),5)))"
      ],
      "metadata": {
        "colab": {
          "base_uri": "https://localhost:8080/"
        },
        "id": "3ChFbIGmr3OL",
        "outputId": "bda6c72b-e75f-4d9a-ddd0-813a4b68aa9d"
      },
      "execution_count": 2213,
      "outputs": [
        {
          "output_type": "stream",
          "name": "stdout",
          "text": [
            "Accuracy 0.54382\n",
            "Recall 0.66093\n",
            "Roc_auc 0.53868\n",
            "Precision 0.55199\n",
            "F1 0.60157\n"
          ]
        }
      ]
    },
    {
      "cell_type": "code",
      "source": [
        "from xgboost import plot_importance\n",
        "\n",
        "importance = model_xgb.get_booster().get_score(importance_type = \"gain\")\n",
        "importance = {k: v for k, v in sorted(importance.items(), key = lambda item: item[1])}\n",
        "\n",
        "fig, ax = plt.subplots(figsize = (5, 5))\n",
        "plot_importance(model_xgb, importance_type = \"gain\", ax = ax, color= 'red');"
      ],
      "metadata": {
        "colab": {
          "base_uri": "https://localhost:8080/",
          "height": 491
        },
        "id": "tgoTJRBCFb_v",
        "outputId": "ddc6e077-d7f5-4bbc-f0f7-46bc3e47da52"
      },
      "execution_count": 2214,
      "outputs": [
        {
          "output_type": "display_data",
          "data": {
            "text/plain": [
              "<Figure size 500x500 with 1 Axes>"
            ],
            "image/png": "[encoded data removed]"
          },
          "metadata": {}
        }
      ]
    },
    {
      "cell_type": "markdown",
      "source": [
        "# Predecimos"
      ],
      "metadata": {
        "id": "LjBAFS8ThwB_"
      }
    },
    {
      "cell_type": "code",
      "source": [
        "test_X = df_test.fillna(method ='backfill')"
      ],
      "metadata": {
        "id": "3Rph2aaKM-wU"
      },
      "execution_count": 2215,
      "outputs": []
    },
    {
      "cell_type": "code",
      "source": [
        "test_X  = test_X.drop('Date', axis =1)"
      ],
      "metadata": {
        "id": "PVviQJXwj_BE"
      },
      "execution_count": 2216,
      "outputs": []
    },
    {
      "cell_type": "code",
      "source": [
        "test_X.head()"
      ],
      "metadata": {
        "colab": {
          "base_uri": "https://localhost:8080/",
          "height": 237
        },
        "id": "0VCoxgivkMs1",
        "outputId": "c003a4b7-c7a9-490d-e2a1-9e110ab27dcc"
      },
      "execution_count": 2217,
      "outputs": [
        {
          "output_type": "execute_result",
          "data": {
            "text/plain": [
              "              Open         High          Low    Adj Close       Volume  \\\n",
              "index                                                                    \n",
              "6557   9136.799805  9173.400391  9095.000000  9150.500000  158753000.0   \n",
              "6558   9169.200195  9246.200195  9136.700195  9169.200195  212720900.0   \n",
              "6559   9186.700195  9261.400391  9185.700195  9236.099609  150664700.0   \n",
              "6560   9284.200195  9302.200195  9248.099609  9294.099609  102323700.0   \n",
              "6561   9288.599609  9332.500000  9273.400391  9282.099609  144701200.0   \n",
              "\n",
              "       Dif_Open_Close          MA3  \n",
              "index                               \n",
              "6557        13.700195  9185.266601  \n",
              "6558         0.000000  9185.266601  \n",
              "6559        49.399414  9185.266601  \n",
              "6560         9.899414  9233.133138  \n",
              "6561        -6.500000  9270.766276  "
            ],
            "text/html": [
              "\n",
              "  <div id=\"df-793779da-3466-4b51-95b3-6162f8b33624\">\n",
              "    <div class=\"colab-df-container\">\n",
              "      <div>\n",
              "<style scoped>\n",
              "    .dataframe tbody tr th:only-of-type {\n",
              "        vertical-align: middle;\n",
              "    }\n",
              "\n",
              "    .dataframe tbody tr th {\n",
              "        vertical-align: top;\n",
              "    }\n",
              "\n",
              "    .dataframe thead th {\n",
              "        text-align: right;\n",
              "    }\n",
              "</style>\n",
              "<table border=\"1\" class=\"dataframe\">\n",
              "  <thead>\n",
              "    <tr style=\"text-align: right;\">\n",
              "      <th></th>\n",
              "      <th>Open</th>\n",
              "      <th>High</th>\n",
              "      <th>Low</th>\n",
              "      <th>Adj Close</th>\n",
              "      <th>Volume</th>\n",
              "      <th>Dif_Open_Close</th>\n",
              "      <th>MA3</th>\n",
              "    </tr>\n",
              "    <tr>\n",
              "      <th>index</th>\n",
              "      <th></th>\n",
              "      <th></th>\n",
              "      <th></th>\n",
              "      <th></th>\n",
              "      <th></th>\n",
              "      <th></th>\n",
              "      <th></th>\n",
              "    </tr>\n",
              "  </thead>\n",
              "  <tbody>\n",
              "    <tr>\n",
              "      <th>6557</th>\n",
              "      <td>9136.799805</td>\n",
              "      <td>9173.400391</td>\n",
              "      <td>9095.000000</td>\n",
              "      <td>9150.500000</td>\n",
              "      <td>158753000.0</td>\n",
              "      <td>13.700195</td>\n",
              "      <td>9185.266601</td>\n",
              "    </tr>\n",
              "    <tr>\n",
              "      <th>6558</th>\n",
              "      <td>9169.200195</td>\n",
              "      <td>9246.200195</td>\n",
              "      <td>9136.700195</td>\n",
              "      <td>9169.200195</td>\n",
              "      <td>212720900.0</td>\n",
              "      <td>0.000000</td>\n",
              "      <td>9185.266601</td>\n",
              "    </tr>\n",
              "    <tr>\n",
              "      <th>6559</th>\n",
              "      <td>9186.700195</td>\n",
              "      <td>9261.400391</td>\n",
              "      <td>9185.700195</td>\n",
              "      <td>9236.099609</td>\n",
              "      <td>150664700.0</td>\n",
              "      <td>49.399414</td>\n",
              "      <td>9185.266601</td>\n",
              "    </tr>\n",
              "    <tr>\n",
              "      <th>6560</th>\n",
              "      <td>9284.200195</td>\n",
              "      <td>9302.200195</td>\n",
              "      <td>9248.099609</td>\n",
              "      <td>9294.099609</td>\n",
              "      <td>102323700.0</td>\n",
              "      <td>9.899414</td>\n",
              "      <td>9233.133138</td>\n",
              "    </tr>\n",
              "    <tr>\n",
              "      <th>6561</th>\n",
              "      <td>9288.599609</td>\n",
              "      <td>9332.500000</td>\n",
              "      <td>9273.400391</td>\n",
              "      <td>9282.099609</td>\n",
              "      <td>144701200.0</td>\n",
              "      <td>-6.500000</td>\n",
              "      <td>9270.766276</td>\n",
              "    </tr>\n",
              "  </tbody>\n",
              "</table>\n",
              "</div>\n",
              "      <button class=\"colab-df-convert\" onclick=\"convertToInteractive('df-793779da-3466-4b51-95b3-6162f8b33624')\"\n",
              "              title=\"Convert this dataframe to an interactive table.\"\n",
              "              style=\"display:none;\">\n",
              "        \n",
              "  <svg xmlns=\"http://www.w3.org/2000/svg\" height=\"24px\"viewBox=\"0 0 24 24\"\n",
              "       width=\"24px\">\n",
              "    <path d=\"M0 0h24v24H0V0z\" fill=\"none\"/>\n",
              "    <path d=\"M18.56 5.44l.94 2.06.94-2.06 2.06-.94-2.06-.94-.94-2.06-.94 2.06-2.06.94zm-11 1L8.5 8.5l.94-2.06 2.06-.94-2.06-.94L8.5 2.5l-.94 2.06-2.06.94zm10 10l.94 2.06.94-2.06 2.06-.94-2.06-.94-.94-2.06-.94 2.06-2.06.94z\"/><path d=\"M17.41 7.96l-1.37-1.37c-.4-.4-.92-.59-1.43-.59-.52 0-1.04.2-1.43.59L10.3 9.45l-7.72 7.72c-.78.78-.78 2.05 0 2.83L4 21.41c.39.39.9.59 1.41.59.51 0 1.02-.2 1.41-.59l7.78-7.78 2.81-2.81c.8-.78.8-2.07 0-2.86zM5.41 20L4 18.59l7.72-7.72 1.47 1.35L5.41 20z\"/>\n",
              "  </svg>\n",
              "      </button>\n",
              "      \n",
              "  <style>\n",
              "    .colab-df-container {\n",
              "      display:flex;\n",
              "      flex-wrap:wrap;\n",
              "      gap: 12px;\n",
              "    }\n",
              "\n",
              "    .colab-df-convert {\n",
              "      background-color: #E8F0FE;\n",
              "      border: none;\n",
              "      border-radius: 50%;\n",
              "      cursor: pointer;\n",
              "      display: none;\n",
              "      fill: #1967D2;\n",
              "      height: 32px;\n",
              "      padding: 0 0 0 0;\n",
              "      width: 32px;\n",
              "    }\n",
              "\n",
              "    .colab-df-convert:hover {\n",
              "      background-color: #E2EBFA;\n",
              "      box-shadow: 0px 1px 2px rgba(60, 64, 67, 0.3), 0px 1px 3px 1px rgba(60, 64, 67, 0.15);\n",
              "      fill: #174EA6;\n",
              "    }\n",
              "\n",
              "    [theme=dark] .colab-df-convert {\n",
              "      background-color: #3B4455;\n",
              "      fill: #D2E3FC;\n",
              "    }\n",
              "\n",
              "    [theme=dark] .colab-df-convert:hover {\n",
              "      background-color: #434B5C;\n",
              "      box-shadow: 0px 1px 3px 1px rgba(0, 0, 0, 0.15);\n",
              "      filter: drop-shadow(0px 1px 2px rgba(0, 0, 0, 0.3));\n",
              "      fill: #FFFFFF;\n",
              "    }\n",
              "  </style>\n",
              "\n",
              "      <script>\n",
              "        const buttonEl =\n",
              "          document.querySelector('#df-793779da-3466-4b51-95b3-6162f8b33624 button.colab-df-convert');\n",
              "        buttonEl.style.display =\n",
              "          google.colab.kernel.accessAllowed ? 'block' : 'none';\n",
              "\n",
              "        async function convertToInteractive(key) {\n",
              "          const element = document.querySelector('#df-793779da-3466-4b51-95b3-6162f8b33624');\n",
              "          const dataTable =\n",
              "            await google.colab.kernel.invokeFunction('convertToInteractive',\n",
              "                                                     [key], {});\n",
              "          if (!dataTable) return;\n",
              "\n",
              "          const docLinkHtml = 'Like what you see? Visit the ' +\n",
              "            '<a target=\"_blank\" href=https://colab.research.google.com/notebooks/data_table.ipynb>data table notebook</a>'\n",
              "            + ' to learn more about interactive tables.';\n",
              "          element.innerHTML = '';\n",
              "          dataTable['output_type'] = 'display_data';\n",
              "          await google.colab.output.renderOutput(dataTable, element);\n",
              "          const docLink = document.createElement('div');\n",
              "          docLink.innerHTML = docLinkHtml;\n",
              "          element.appendChild(docLink);\n",
              "        }\n",
              "      </script>\n",
              "    </div>\n",
              "  </div>\n",
              "  "
            ]
          },
          "metadata": {},
          "execution_count": 2217
        }
      ]
    },
    {
      "cell_type": "code",
      "source": [
        "model_xgb.fit(\n",
        "    X = X_train, \n",
        "    y = y_train,\n",
        ")\n",
        "prediction = model_xgb.predict(test_X)"
      ],
      "metadata": {
        "id": "ZpzAH4Edndw7"
      },
      "execution_count": 2218,
      "outputs": []
    },
    {
      "cell_type": "code",
      "source": [
        "test_X['Target'] = predictions"
      ],
      "metadata": {
        "id": "VBC0uXmWn5ND"
      },
      "execution_count": 2219,
      "outputs": []
    },
    {
      "cell_type": "code",
      "source": [
        "test_X.rename_axis('test_index', inplace = True)"
      ],
      "metadata": {
        "id": "HpXgN1zUn75T"
      },
      "execution_count": 2220,
      "outputs": []
    },
    {
      "cell_type": "code",
      "source": [
        "test_X.reset_index(inplace = True)"
      ],
      "metadata": {
        "id": "LogijwkdqZfL"
      },
      "execution_count": 2221,
      "outputs": []
    },
    {
      "cell_type": "code",
      "source": [
        "test_X.head()"
      ],
      "metadata": {
        "colab": {
          "base_uri": "https://localhost:8080/",
          "height": 206
        },
        "id": "utPMgLbmqCAd",
        "outputId": "1e055d32-46b9-4c6a-904a-7fb97e0b0758"
      },
      "execution_count": 2222,
      "outputs": [
        {
          "output_type": "execute_result",
          "data": {
            "text/plain": [
              "   test_index         Open         High          Low    Adj Close  \\\n",
              "0        6557  9136.799805  9173.400391  9095.000000  9150.500000   \n",
              "1        6558  9169.200195  9246.200195  9136.700195  9169.200195   \n",
              "2        6559  9186.700195  9261.400391  9185.700195  9236.099609   \n",
              "3        6560  9284.200195  9302.200195  9248.099609  9294.099609   \n",
              "4        6561  9288.599609  9332.500000  9273.400391  9282.099609   \n",
              "\n",
              "        Volume  Dif_Open_Close          MA3  Target  \n",
              "0  158753000.0       13.700195  9185.266601       1  \n",
              "1  212720900.0        0.000000  9185.266601       1  \n",
              "2  150664700.0       49.399414  9185.266601       1  \n",
              "3  102323700.0        9.899414  9233.133138       1  \n",
              "4  144701200.0       -6.500000  9270.766276       1  "
            ],
            "text/html": [
              "\n",
              "  <div id=\"df-0e5702ea-cded-4ce8-bc3d-a28c7e98856c\">\n",
              "    <div class=\"colab-df-container\">\n",
              "      <div>\n",
              "<style scoped>\n",
              "    .dataframe tbody tr th:only-of-type {\n",
              "        vertical-align: middle;\n",
              "    }\n",
              "\n",
              "    .dataframe tbody tr th {\n",
              "        vertical-align: top;\n",
              "    }\n",
              "\n",
              "    .dataframe thead th {\n",
              "        text-align: right;\n",
              "    }\n",
              "</style>\n",
              "<table border=\"1\" class=\"dataframe\">\n",
              "  <thead>\n",
              "    <tr style=\"text-align: right;\">\n",
              "      <th></th>\n",
              "      <th>test_index</th>\n",
              "      <th>Open</th>\n",
              "      <th>High</th>\n",
              "      <th>Low</th>\n",
              "      <th>Adj Close</th>\n",
              "      <th>Volume</th>\n",
              "      <th>Dif_Open_Close</th>\n",
              "      <th>MA3</th>\n",
              "      <th>Target</th>\n",
              "    </tr>\n",
              "  </thead>\n",
              "  <tbody>\n",
              "    <tr>\n",
              "      <th>0</th>\n",
              "      <td>6557</td>\n",
              "      <td>9136.799805</td>\n",
              "      <td>9173.400391</td>\n",
              "      <td>9095.000000</td>\n",
              "      <td>9150.500000</td>\n",
              "      <td>158753000.0</td>\n",
              "      <td>13.700195</td>\n",
              "      <td>9185.266601</td>\n",
              "      <td>1</td>\n",
              "    </tr>\n",
              "    <tr>\n",
              "      <th>1</th>\n",
              "      <td>6558</td>\n",
              "      <td>9169.200195</td>\n",
              "      <td>9246.200195</td>\n",
              "      <td>9136.700195</td>\n",
              "      <td>9169.200195</td>\n",
              "      <td>212720900.0</td>\n",
              "      <td>0.000000</td>\n",
              "      <td>9185.266601</td>\n",
              "      <td>1</td>\n",
              "    </tr>\n",
              "    <tr>\n",
              "      <th>2</th>\n",
              "      <td>6559</td>\n",
              "      <td>9186.700195</td>\n",
              "      <td>9261.400391</td>\n",
              "      <td>9185.700195</td>\n",
              "      <td>9236.099609</td>\n",
              "      <td>150664700.0</td>\n",
              "      <td>49.399414</td>\n",
              "      <td>9185.266601</td>\n",
              "      <td>1</td>\n",
              "    </tr>\n",
              "    <tr>\n",
              "      <th>3</th>\n",
              "      <td>6560</td>\n",
              "      <td>9284.200195</td>\n",
              "      <td>9302.200195</td>\n",
              "      <td>9248.099609</td>\n",
              "      <td>9294.099609</td>\n",
              "      <td>102323700.0</td>\n",
              "      <td>9.899414</td>\n",
              "      <td>9233.133138</td>\n",
              "      <td>1</td>\n",
              "    </tr>\n",
              "    <tr>\n",
              "      <th>4</th>\n",
              "      <td>6561</td>\n",
              "      <td>9288.599609</td>\n",
              "      <td>9332.500000</td>\n",
              "      <td>9273.400391</td>\n",
              "      <td>9282.099609</td>\n",
              "      <td>144701200.0</td>\n",
              "      <td>-6.500000</td>\n",
              "      <td>9270.766276</td>\n",
              "      <td>1</td>\n",
              "    </tr>\n",
              "  </tbody>\n",
              "</table>\n",
              "</div>\n",
              "      <button class=\"colab-df-convert\" onclick=\"convertToInteractive('df-0e5702ea-cded-4ce8-bc3d-a28c7e98856c')\"\n",
              "              title=\"Convert this dataframe to an interactive table.\"\n",
              "              style=\"display:none;\">\n",
              "        \n",
              "  <svg xmlns=\"http://www.w3.org/2000/svg\" height=\"24px\"viewBox=\"0 0 24 24\"\n",
              "       width=\"24px\">\n",
              "    <path d=\"M0 0h24v24H0V0z\" fill=\"none\"/>\n",
              "    <path d=\"M18.56 5.44l.94 2.06.94-2.06 2.06-.94-2.06-.94-.94-2.06-.94 2.06-2.06.94zm-11 1L8.5 8.5l.94-2.06 2.06-.94-2.06-.94L8.5 2.5l-.94 2.06-2.06.94zm10 10l.94 2.06.94-2.06 2.06-.94-2.06-.94-.94-2.06-.94 2.06-2.06.94z\"/><path d=\"M17.41 7.96l-1.37-1.37c-.4-.4-.92-.59-1.43-.59-.52 0-1.04.2-1.43.59L10.3 9.45l-7.72 7.72c-.78.78-.78 2.05 0 2.83L4 21.41c.39.39.9.59 1.41.59.51 0 1.02-.2 1.41-.59l7.78-7.78 2.81-2.81c.8-.78.8-2.07 0-2.86zM5.41 20L4 18.59l7.72-7.72 1.47 1.35L5.41 20z\"/>\n",
              "  </svg>\n",
              "      </button>\n",
              "      \n",
              "  <style>\n",
              "    .colab-df-container {\n",
              "      display:flex;\n",
              "      flex-wrap:wrap;\n",
              "      gap: 12px;\n",
              "    }\n",
              "\n",
              "    .colab-df-convert {\n",
              "      background-color: #E8F0FE;\n",
              "      border: none;\n",
              "      border-radius: 50%;\n",
              "      cursor: pointer;\n",
              "      display: none;\n",
              "      fill: #1967D2;\n",
              "      height: 32px;\n",
              "      padding: 0 0 0 0;\n",
              "      width: 32px;\n",
              "    }\n",
              "\n",
              "    .colab-df-convert:hover {\n",
              "      background-color: #E2EBFA;\n",
              "      box-shadow: 0px 1px 2px rgba(60, 64, 67, 0.3), 0px 1px 3px 1px rgba(60, 64, 67, 0.15);\n",
              "      fill: #174EA6;\n",
              "    }\n",
              "\n",
              "    [theme=dark] .colab-df-convert {\n",
              "      background-color: #3B4455;\n",
              "      fill: #D2E3FC;\n",
              "    }\n",
              "\n",
              "    [theme=dark] .colab-df-convert:hover {\n",
              "      background-color: #434B5C;\n",
              "      box-shadow: 0px 1px 3px 1px rgba(0, 0, 0, 0.15);\n",
              "      filter: drop-shadow(0px 1px 2px rgba(0, 0, 0, 0.3));\n",
              "      fill: #FFFFFF;\n",
              "    }\n",
              "  </style>\n",
              "\n",
              "      <script>\n",
              "        const buttonEl =\n",
              "          document.querySelector('#df-0e5702ea-cded-4ce8-bc3d-a28c7e98856c button.colab-df-convert');\n",
              "        buttonEl.style.display =\n",
              "          google.colab.kernel.accessAllowed ? 'block' : 'none';\n",
              "\n",
              "        async function convertToInteractive(key) {\n",
              "          const element = document.querySelector('#df-0e5702ea-cded-4ce8-bc3d-a28c7e98856c');\n",
              "          const dataTable =\n",
              "            await google.colab.kernel.invokeFunction('convertToInteractive',\n",
              "                                                     [key], {});\n",
              "          if (!dataTable) return;\n",
              "\n",
              "          const docLinkHtml = 'Like what you see? Visit the ' +\n",
              "            '<a target=\"_blank\" href=https://colab.research.google.com/notebooks/data_table.ipynb>data table notebook</a>'\n",
              "            + ' to learn more about interactive tables.';\n",
              "          element.innerHTML = '';\n",
              "          dataTable['output_type'] = 'display_data';\n",
              "          await google.colab.output.renderOutput(dataTable, element);\n",
              "          const docLink = document.createElement('div');\n",
              "          docLink.innerHTML = docLinkHtml;\n",
              "          element.appendChild(docLink);\n",
              "        }\n",
              "      </script>\n",
              "    </div>\n",
              "  </div>\n",
              "  "
            ]
          },
          "metadata": {},
          "execution_count": 2222
        }
      ]
    },
    {
      "cell_type": "code",
      "source": [
        "test_X[[\"test_index\", \"Target\"]].to_csv(\"predictions.csv\", index = False)"
      ],
      "metadata": {
        "id": "zaPQF6CwpI2y"
      },
      "execution_count": 2223,
      "outputs": []
    },
    {
      "cell_type": "code",
      "source": [
        "test_X[[\"test_index\", \"Target\"]].to_json(\"predictions.json\")"
      ],
      "metadata": {
        "id": "K4cyMpCPpuks"
      },
      "execution_count": 2224,
      "outputs": []
    },
    {
      "cell_type": "code",
      "source": [
        ""
      ],
      "metadata": {
        "id": "fipZ3Q6Hq2Hb"
      },
      "execution_count": 2224,
      "outputs": []
    }
  ]
}